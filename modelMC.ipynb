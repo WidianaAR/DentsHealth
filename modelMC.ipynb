{
  "cells": [
    {
      "metadata": {
        "_cell_guid": "b1076dfc-b9ad-4769-8c92-a6c4dae69d19",
        "_uuid": "8f2839f25d086af736a60e9eeb907d3b93b6e0e5",
        "trusted": true,
        "id": "MIapHjCyOzsJ"
      },
      "cell_type": "code",
      "source": [
        "import numpy as np \n",
        "import pandas as pd\n",
        "import tensorflow as tf\n",
        "\n",
        "from keras.layers import Dense, Embedding, LSTM, SpatialDropout1D\n",
        "from keras.models import Sequential\n",
        "from sklearn.feature_extraction.text import CountVectorizer\n",
        "from keras.preprocessing.text import Tokenizer\n",
        "from keras.preprocessing.sequence import pad_sequences\n",
        "from sklearn.model_selection import train_test_split\n",
        "from keras.utils.np_utils import to_categorical\n",
        "from keras.callbacks import EarlyStopping"
      ],
      "execution_count": null,
      "outputs": []
    },
    {
      "cell_type": "code",
      "source": [
        "print(tf.__version__)"
      ],
      "metadata": {
        "colab": {
          "base_uri": "https://localhost:8080/"
        },
        "id": "iGDB5lOmJoDe",
        "outputId": "1f32d3e0-7379-4fa9-fc92-080899a0dac0"
      },
      "execution_count": null,
      "outputs": [
        {
          "output_type": "stream",
          "name": "stdout",
          "text": [
            "2.8.2\n"
          ]
        }
      ]
    },
    {
      "cell_type": "markdown",
      "source": [
        "## Explore the dataset\n",
        "\n",
        "The dataset is provided in a csv file. \n",
        "\n",
        "Each row of this file contains the following values separated by commas:\n",
        "\n",
        "- user: the user that tweeted\n",
        "\n",
        "- text: the text of the tweet\n",
        "\n",
        "\n",
        "Take a look at the first two examples:"
      ],
      "metadata": {
        "id": "CA4asaxJJpZ6"
      }
    },
    {
      "metadata": {
        "_cell_guid": "79c7e3d0-c299-4dcb-8224-4455121ee9b0",
        "_uuid": "d629ff2d2480ee46fbb7e2d37f6b5fab8052498a",
        "collapsed": true,
        "trusted": true,
        "id": "HlKMvZExOzsa",
        "colab": {
          "base_uri": "https://localhost:8080/",
          "height": 345
        },
        "outputId": "fd98001f-cdf9-43b8-9b1a-5bc87ece1540"
      },
      "cell_type": "code",
      "source": [
        "data = pd.read_csv('/content/Macam Infeksi Gigi.xlsx - DataTwit.csv', usecols=['Kategori', 'Gejala'])\n",
        "data.dropna(inplace=True)\n",
        "data.head()"
      ],
      "execution_count": null,
      "outputs": [
        {
          "output_type": "error",
          "ename": "FileNotFoundError",
          "evalue": "ignored",
          "traceback": [
            "\u001b[0;31m---------------------------------------------------------------------------\u001b[0m",
            "\u001b[0;31mFileNotFoundError\u001b[0m                         Traceback (most recent call last)",
            "\u001b[0;32m<ipython-input-2-4b690fcb7363>\u001b[0m in \u001b[0;36m<module>\u001b[0;34m()\u001b[0m\n\u001b[0;32m----> 1\u001b[0;31m \u001b[0mdata\u001b[0m \u001b[0;34m=\u001b[0m \u001b[0mpd\u001b[0m\u001b[0;34m.\u001b[0m\u001b[0mread_csv\u001b[0m\u001b[0;34m(\u001b[0m\u001b[0;34m'/content/Macam Infeksi Gigi.xlsx - DataTwit.csv'\u001b[0m\u001b[0;34m,\u001b[0m \u001b[0musecols\u001b[0m\u001b[0;34m=\u001b[0m\u001b[0;34m[\u001b[0m\u001b[0;34m'Kategori'\u001b[0m\u001b[0;34m,\u001b[0m \u001b[0;34m'Gejala'\u001b[0m\u001b[0;34m]\u001b[0m\u001b[0;34m)\u001b[0m\u001b[0;34m\u001b[0m\u001b[0;34m\u001b[0m\u001b[0m\n\u001b[0m\u001b[1;32m      2\u001b[0m \u001b[0mdata\u001b[0m\u001b[0;34m.\u001b[0m\u001b[0mdropna\u001b[0m\u001b[0;34m(\u001b[0m\u001b[0minplace\u001b[0m\u001b[0;34m=\u001b[0m\u001b[0;32mTrue\u001b[0m\u001b[0;34m)\u001b[0m\u001b[0;34m\u001b[0m\u001b[0;34m\u001b[0m\u001b[0m\n\u001b[1;32m      3\u001b[0m \u001b[0mdata\u001b[0m\u001b[0;34m.\u001b[0m\u001b[0mhead\u001b[0m\u001b[0;34m(\u001b[0m\u001b[0;34m)\u001b[0m\u001b[0;34m\u001b[0m\u001b[0;34m\u001b[0m\u001b[0m\n",
            "\u001b[0;32m/usr/local/lib/python3.7/dist-packages/pandas/util/_decorators.py\u001b[0m in \u001b[0;36mwrapper\u001b[0;34m(*args, **kwargs)\u001b[0m\n\u001b[1;32m    309\u001b[0m                     \u001b[0mstacklevel\u001b[0m\u001b[0;34m=\u001b[0m\u001b[0mstacklevel\u001b[0m\u001b[0;34m,\u001b[0m\u001b[0;34m\u001b[0m\u001b[0;34m\u001b[0m\u001b[0m\n\u001b[1;32m    310\u001b[0m                 )\n\u001b[0;32m--> 311\u001b[0;31m             \u001b[0;32mreturn\u001b[0m \u001b[0mfunc\u001b[0m\u001b[0;34m(\u001b[0m\u001b[0;34m*\u001b[0m\u001b[0margs\u001b[0m\u001b[0;34m,\u001b[0m \u001b[0;34m**\u001b[0m\u001b[0mkwargs\u001b[0m\u001b[0;34m)\u001b[0m\u001b[0;34m\u001b[0m\u001b[0;34m\u001b[0m\u001b[0m\n\u001b[0m\u001b[1;32m    312\u001b[0m \u001b[0;34m\u001b[0m\u001b[0m\n\u001b[1;32m    313\u001b[0m         \u001b[0;32mreturn\u001b[0m \u001b[0mwrapper\u001b[0m\u001b[0;34m\u001b[0m\u001b[0;34m\u001b[0m\u001b[0m\n",
            "\u001b[0;32m/usr/local/lib/python3.7/dist-packages/pandas/io/parsers/readers.py\u001b[0m in \u001b[0;36mread_csv\u001b[0;34m(filepath_or_buffer, sep, delimiter, header, names, index_col, usecols, squeeze, prefix, mangle_dupe_cols, dtype, engine, converters, true_values, false_values, skipinitialspace, skiprows, skipfooter, nrows, na_values, keep_default_na, na_filter, verbose, skip_blank_lines, parse_dates, infer_datetime_format, keep_date_col, date_parser, dayfirst, cache_dates, iterator, chunksize, compression, thousands, decimal, lineterminator, quotechar, quoting, doublequote, escapechar, comment, encoding, encoding_errors, dialect, error_bad_lines, warn_bad_lines, on_bad_lines, delim_whitespace, low_memory, memory_map, float_precision, storage_options)\u001b[0m\n\u001b[1;32m    584\u001b[0m     \u001b[0mkwds\u001b[0m\u001b[0;34m.\u001b[0m\u001b[0mupdate\u001b[0m\u001b[0;34m(\u001b[0m\u001b[0mkwds_defaults\u001b[0m\u001b[0;34m)\u001b[0m\u001b[0;34m\u001b[0m\u001b[0;34m\u001b[0m\u001b[0m\n\u001b[1;32m    585\u001b[0m \u001b[0;34m\u001b[0m\u001b[0m\n\u001b[0;32m--> 586\u001b[0;31m     \u001b[0;32mreturn\u001b[0m \u001b[0m_read\u001b[0m\u001b[0;34m(\u001b[0m\u001b[0mfilepath_or_buffer\u001b[0m\u001b[0;34m,\u001b[0m \u001b[0mkwds\u001b[0m\u001b[0;34m)\u001b[0m\u001b[0;34m\u001b[0m\u001b[0;34m\u001b[0m\u001b[0m\n\u001b[0m\u001b[1;32m    587\u001b[0m \u001b[0;34m\u001b[0m\u001b[0m\n\u001b[1;32m    588\u001b[0m \u001b[0;34m\u001b[0m\u001b[0m\n",
            "\u001b[0;32m/usr/local/lib/python3.7/dist-packages/pandas/io/parsers/readers.py\u001b[0m in \u001b[0;36m_read\u001b[0;34m(filepath_or_buffer, kwds)\u001b[0m\n\u001b[1;32m    480\u001b[0m \u001b[0;34m\u001b[0m\u001b[0m\n\u001b[1;32m    481\u001b[0m     \u001b[0;31m# Create the parser.\u001b[0m\u001b[0;34m\u001b[0m\u001b[0;34m\u001b[0m\u001b[0;34m\u001b[0m\u001b[0m\n\u001b[0;32m--> 482\u001b[0;31m     \u001b[0mparser\u001b[0m \u001b[0;34m=\u001b[0m \u001b[0mTextFileReader\u001b[0m\u001b[0;34m(\u001b[0m\u001b[0mfilepath_or_buffer\u001b[0m\u001b[0;34m,\u001b[0m \u001b[0;34m**\u001b[0m\u001b[0mkwds\u001b[0m\u001b[0;34m)\u001b[0m\u001b[0;34m\u001b[0m\u001b[0;34m\u001b[0m\u001b[0m\n\u001b[0m\u001b[1;32m    483\u001b[0m \u001b[0;34m\u001b[0m\u001b[0m\n\u001b[1;32m    484\u001b[0m     \u001b[0;32mif\u001b[0m \u001b[0mchunksize\u001b[0m \u001b[0;32mor\u001b[0m \u001b[0miterator\u001b[0m\u001b[0;34m:\u001b[0m\u001b[0;34m\u001b[0m\u001b[0;34m\u001b[0m\u001b[0m\n",
            "\u001b[0;32m/usr/local/lib/python3.7/dist-packages/pandas/io/parsers/readers.py\u001b[0m in \u001b[0;36m__init__\u001b[0;34m(self, f, engine, **kwds)\u001b[0m\n\u001b[1;32m    809\u001b[0m             \u001b[0mself\u001b[0m\u001b[0;34m.\u001b[0m\u001b[0moptions\u001b[0m\u001b[0;34m[\u001b[0m\u001b[0;34m\"has_index_names\"\u001b[0m\u001b[0;34m]\u001b[0m \u001b[0;34m=\u001b[0m \u001b[0mkwds\u001b[0m\u001b[0;34m[\u001b[0m\u001b[0;34m\"has_index_names\"\u001b[0m\u001b[0;34m]\u001b[0m\u001b[0;34m\u001b[0m\u001b[0;34m\u001b[0m\u001b[0m\n\u001b[1;32m    810\u001b[0m \u001b[0;34m\u001b[0m\u001b[0m\n\u001b[0;32m--> 811\u001b[0;31m         \u001b[0mself\u001b[0m\u001b[0;34m.\u001b[0m\u001b[0m_engine\u001b[0m \u001b[0;34m=\u001b[0m \u001b[0mself\u001b[0m\u001b[0;34m.\u001b[0m\u001b[0m_make_engine\u001b[0m\u001b[0;34m(\u001b[0m\u001b[0mself\u001b[0m\u001b[0;34m.\u001b[0m\u001b[0mengine\u001b[0m\u001b[0;34m)\u001b[0m\u001b[0;34m\u001b[0m\u001b[0;34m\u001b[0m\u001b[0m\n\u001b[0m\u001b[1;32m    812\u001b[0m \u001b[0;34m\u001b[0m\u001b[0m\n\u001b[1;32m    813\u001b[0m     \u001b[0;32mdef\u001b[0m \u001b[0mclose\u001b[0m\u001b[0;34m(\u001b[0m\u001b[0mself\u001b[0m\u001b[0;34m)\u001b[0m\u001b[0;34m:\u001b[0m\u001b[0;34m\u001b[0m\u001b[0;34m\u001b[0m\u001b[0m\n",
            "\u001b[0;32m/usr/local/lib/python3.7/dist-packages/pandas/io/parsers/readers.py\u001b[0m in \u001b[0;36m_make_engine\u001b[0;34m(self, engine)\u001b[0m\n\u001b[1;32m   1038\u001b[0m             )\n\u001b[1;32m   1039\u001b[0m         \u001b[0;31m# error: Too many arguments for \"ParserBase\"\u001b[0m\u001b[0;34m\u001b[0m\u001b[0;34m\u001b[0m\u001b[0;34m\u001b[0m\u001b[0m\n\u001b[0;32m-> 1040\u001b[0;31m         \u001b[0;32mreturn\u001b[0m \u001b[0mmapping\u001b[0m\u001b[0;34m[\u001b[0m\u001b[0mengine\u001b[0m\u001b[0;34m]\u001b[0m\u001b[0;34m(\u001b[0m\u001b[0mself\u001b[0m\u001b[0;34m.\u001b[0m\u001b[0mf\u001b[0m\u001b[0;34m,\u001b[0m \u001b[0;34m**\u001b[0m\u001b[0mself\u001b[0m\u001b[0;34m.\u001b[0m\u001b[0moptions\u001b[0m\u001b[0;34m)\u001b[0m  \u001b[0;31m# type: ignore[call-arg]\u001b[0m\u001b[0;34m\u001b[0m\u001b[0;34m\u001b[0m\u001b[0m\n\u001b[0m\u001b[1;32m   1041\u001b[0m \u001b[0;34m\u001b[0m\u001b[0m\n\u001b[1;32m   1042\u001b[0m     \u001b[0;32mdef\u001b[0m \u001b[0m_failover_to_python\u001b[0m\u001b[0;34m(\u001b[0m\u001b[0mself\u001b[0m\u001b[0;34m)\u001b[0m\u001b[0;34m:\u001b[0m\u001b[0;34m\u001b[0m\u001b[0;34m\u001b[0m\u001b[0m\n",
            "\u001b[0;32m/usr/local/lib/python3.7/dist-packages/pandas/io/parsers/c_parser_wrapper.py\u001b[0m in \u001b[0;36m__init__\u001b[0;34m(self, src, **kwds)\u001b[0m\n\u001b[1;32m     49\u001b[0m \u001b[0;34m\u001b[0m\u001b[0m\n\u001b[1;32m     50\u001b[0m         \u001b[0;31m# open handles\u001b[0m\u001b[0;34m\u001b[0m\u001b[0;34m\u001b[0m\u001b[0;34m\u001b[0m\u001b[0m\n\u001b[0;32m---> 51\u001b[0;31m         \u001b[0mself\u001b[0m\u001b[0;34m.\u001b[0m\u001b[0m_open_handles\u001b[0m\u001b[0;34m(\u001b[0m\u001b[0msrc\u001b[0m\u001b[0;34m,\u001b[0m \u001b[0mkwds\u001b[0m\u001b[0;34m)\u001b[0m\u001b[0;34m\u001b[0m\u001b[0;34m\u001b[0m\u001b[0m\n\u001b[0m\u001b[1;32m     52\u001b[0m         \u001b[0;32massert\u001b[0m \u001b[0mself\u001b[0m\u001b[0;34m.\u001b[0m\u001b[0mhandles\u001b[0m \u001b[0;32mis\u001b[0m \u001b[0;32mnot\u001b[0m \u001b[0;32mNone\u001b[0m\u001b[0;34m\u001b[0m\u001b[0;34m\u001b[0m\u001b[0m\n\u001b[1;32m     53\u001b[0m \u001b[0;34m\u001b[0m\u001b[0m\n",
            "\u001b[0;32m/usr/local/lib/python3.7/dist-packages/pandas/io/parsers/base_parser.py\u001b[0m in \u001b[0;36m_open_handles\u001b[0;34m(self, src, kwds)\u001b[0m\n\u001b[1;32m    227\u001b[0m             \u001b[0mmemory_map\u001b[0m\u001b[0;34m=\u001b[0m\u001b[0mkwds\u001b[0m\u001b[0;34m.\u001b[0m\u001b[0mget\u001b[0m\u001b[0;34m(\u001b[0m\u001b[0;34m\"memory_map\"\u001b[0m\u001b[0;34m,\u001b[0m \u001b[0;32mFalse\u001b[0m\u001b[0;34m)\u001b[0m\u001b[0;34m,\u001b[0m\u001b[0;34m\u001b[0m\u001b[0;34m\u001b[0m\u001b[0m\n\u001b[1;32m    228\u001b[0m             \u001b[0mstorage_options\u001b[0m\u001b[0;34m=\u001b[0m\u001b[0mkwds\u001b[0m\u001b[0;34m.\u001b[0m\u001b[0mget\u001b[0m\u001b[0;34m(\u001b[0m\u001b[0;34m\"storage_options\"\u001b[0m\u001b[0;34m,\u001b[0m \u001b[0;32mNone\u001b[0m\u001b[0;34m)\u001b[0m\u001b[0;34m,\u001b[0m\u001b[0;34m\u001b[0m\u001b[0;34m\u001b[0m\u001b[0m\n\u001b[0;32m--> 229\u001b[0;31m             \u001b[0merrors\u001b[0m\u001b[0;34m=\u001b[0m\u001b[0mkwds\u001b[0m\u001b[0;34m.\u001b[0m\u001b[0mget\u001b[0m\u001b[0;34m(\u001b[0m\u001b[0;34m\"encoding_errors\"\u001b[0m\u001b[0;34m,\u001b[0m \u001b[0;34m\"strict\"\u001b[0m\u001b[0;34m)\u001b[0m\u001b[0;34m,\u001b[0m\u001b[0;34m\u001b[0m\u001b[0;34m\u001b[0m\u001b[0m\n\u001b[0m\u001b[1;32m    230\u001b[0m         )\n\u001b[1;32m    231\u001b[0m \u001b[0;34m\u001b[0m\u001b[0m\n",
            "\u001b[0;32m/usr/local/lib/python3.7/dist-packages/pandas/io/common.py\u001b[0m in \u001b[0;36mget_handle\u001b[0;34m(path_or_buf, mode, encoding, compression, memory_map, is_text, errors, storage_options)\u001b[0m\n\u001b[1;32m    705\u001b[0m                 \u001b[0mencoding\u001b[0m\u001b[0;34m=\u001b[0m\u001b[0mioargs\u001b[0m\u001b[0;34m.\u001b[0m\u001b[0mencoding\u001b[0m\u001b[0;34m,\u001b[0m\u001b[0;34m\u001b[0m\u001b[0;34m\u001b[0m\u001b[0m\n\u001b[1;32m    706\u001b[0m                 \u001b[0merrors\u001b[0m\u001b[0;34m=\u001b[0m\u001b[0merrors\u001b[0m\u001b[0;34m,\u001b[0m\u001b[0;34m\u001b[0m\u001b[0;34m\u001b[0m\u001b[0m\n\u001b[0;32m--> 707\u001b[0;31m                 \u001b[0mnewline\u001b[0m\u001b[0;34m=\u001b[0m\u001b[0;34m\"\"\u001b[0m\u001b[0;34m,\u001b[0m\u001b[0;34m\u001b[0m\u001b[0;34m\u001b[0m\u001b[0m\n\u001b[0m\u001b[1;32m    708\u001b[0m             )\n\u001b[1;32m    709\u001b[0m         \u001b[0;32melse\u001b[0m\u001b[0;34m:\u001b[0m\u001b[0;34m\u001b[0m\u001b[0;34m\u001b[0m\u001b[0m\n",
            "\u001b[0;31mFileNotFoundError\u001b[0m: [Errno 2] No such file or directory: '/content/Macam Infeksi Gigi.xlsx - DataTwit.csv'"
          ]
        }
      ]
    },
    {
      "metadata": {
        "_cell_guid": "ea29d595-26b0-4d83-a005-853fa59f4506",
        "_uuid": "acf2450933eb3586930df738829abd2e11646e14",
        "trusted": true,
        "colab": {
          "base_uri": "https://localhost:8080/"
        },
        "id": "nO16BrffOzsm",
        "outputId": "5ca7d561-f885-49e1-bb76-812c542c2e9d"
      },
      "cell_type": "code",
      "source": [
        "data.Kategori.value_counts()"
      ],
      "execution_count": null,
      "outputs": [
        {
          "output_type": "execute_result",
          "data": {
            "text/plain": [
              "e    67\n",
              "c    62\n",
              "b    56\n",
              "a    47\n",
              "f    47\n",
              "d    46\n",
              "Name: Kategori, dtype: int64"
            ]
          },
          "metadata": {},
          "execution_count": 6
        }
      ]
    },
    {
      "cell_type": "code",
      "source": [
        "data.count()"
      ],
      "metadata": {
        "colab": {
          "base_uri": "https://localhost:8080/"
        },
        "id": "Ne2_fbJY-Uwt",
        "outputId": "fbf7efb4-45de-499e-f128-beb4096b75b6"
      },
      "execution_count": null,
      "outputs": [
        {
          "output_type": "execute_result",
          "data": {
            "text/plain": [
              "Kategori    325\n",
              "Gejala      325\n",
              "dtype: int64"
            ]
          },
          "metadata": {},
          "execution_count": 7
        }
      ]
    },
    {
      "cell_type": "markdown",
      "source": [
        "##Encoding data, converting data in categories into numerical"
      ],
      "metadata": {
        "id": "_MBCvbmiKPYb"
      }
    },
    {
      "metadata": {
        "_cell_guid": "44de46e2-acce-470d-9c46-624cb0dd15b9",
        "_uuid": "eb9f4766b60f5a23901a8bde1d901ced6c7a3b3e",
        "collapsed": true,
        "trusted": true,
        "id": "yIvHQ84POzsq"
      },
      "cell_type": "code",
      "source": [
        "num_of_categories = 45000\n",
        "shuffled = data.reindex(np.random.permutation(data.index))\n",
        "a = shuffled[shuffled['Kategori'] == 'a'][:num_of_categories]\n",
        "b = shuffled[shuffled['Kategori'] == 'b'][:num_of_categories]\n",
        "c = shuffled[shuffled['Kategori'] == 'c'][:num_of_categories]\n",
        "d = shuffled[shuffled['Kategori'] == 'd'][:num_of_categories]\n",
        "e = shuffled[shuffled['Kategori'] == 'e'][:num_of_categories]\n",
        "f = shuffled[shuffled['Kategori'] == 'f'][:num_of_categories]\n",
        "\n",
        "\n",
        "concated = pd.concat([a,b,c,d,e,f], ignore_index=True)\n",
        "#Shuffle the dataset\n",
        "concated = concated.reindex(np.random.permutation(concated.index))\n",
        "concated['LABEL'] = 0"
      ],
      "execution_count": null,
      "outputs": []
    },
    {
      "metadata": {
        "_cell_guid": "2d3da0fd-6d73-4f3b-b06b-d2bba34bbd4a",
        "_uuid": "60febe37826f220106adf69a51dad124cfae45cc",
        "trusted": true,
        "colab": {
          "base_uri": "https://localhost:8080/",
          "height": 417
        },
        "id": "DQoO-0PNOzsw",
        "outputId": "91bfc89e-bac7-4b59-c29e-08ce912608cc"
      },
      "cell_type": "code",
      "source": [
        "#One-hot encode the lab\n",
        "concated.loc[concated['Kategori'] == 'a', 'LABEL'] = 0\n",
        "concated.loc[concated['Kategori'] == 'b', 'LABEL'] = 1\n",
        "concated.loc[concated['Kategori'] == 'c', 'LABEL'] = 2\n",
        "concated.loc[concated['Kategori'] == 'd', 'LABEL'] = 3\n",
        "concated.loc[concated['Kategori'] == 'e', 'LABEL'] = 4\n",
        "concated.loc[concated['Kategori'] == 'f', 'LABEL'] = 5\n",
        "\n",
        "\n",
        "print(concated['LABEL'][:10])\n",
        "labels = to_categorical(concated['LABEL'], num_classes=6)\n",
        "print(labels[:10])\n",
        "if 'Kategori' in concated.keys():\n",
        "    concated.drop(['Kategori'], axis=1)\n",
        "'''\n",
        " [1. 0. 0. 0. 0. 0.] a\n",
        " [0. 1. 0. 0. 0. 0.] b\n",
        " [0. 0. 1. 0. 0. 0.] c\n",
        " [0. 0. 0. 1. 0. 0.] d\n",
        " [0. 0. 0. 0. 1. 0.] e\n",
        " [0. 0. 0. 0. 0. 1.] f\n",
        "'''"
      ],
      "execution_count": null,
      "outputs": [
        {
          "output_type": "stream",
          "name": "stdout",
          "text": [
            "271    4\n",
            "295    5\n",
            "156    2\n",
            "224    4\n",
            "64     1\n",
            "108    2\n",
            "241    4\n",
            "96     1\n",
            "157    2\n",
            "33     0\n",
            "Name: LABEL, dtype: int64\n",
            "[[0. 0. 0. 0. 1. 0.]\n",
            " [0. 0. 0. 0. 0. 1.]\n",
            " [0. 0. 1. 0. 0. 0.]\n",
            " [0. 0. 0. 0. 1. 0.]\n",
            " [0. 1. 0. 0. 0. 0.]\n",
            " [0. 0. 1. 0. 0. 0.]\n",
            " [0. 0. 0. 0. 1. 0.]\n",
            " [0. 1. 0. 0. 0. 0.]\n",
            " [0. 0. 1. 0. 0. 0.]\n",
            " [1. 0. 0. 0. 0. 0.]]\n"
          ]
        },
        {
          "output_type": "execute_result",
          "data": {
            "text/plain": [
              "'\\n [1. 0. 0. 0. 0. 0.] a\\n [0. 1. 0. 0. 0. 0.] b\\n [0. 0. 1. 0. 0. 0.] c\\n [0. 0. 0. 1. 0. 0.] d\\n [0. 0. 0. 0. 1. 0.] e\\n [0. 0. 0. 0. 0. 1.] f\\n'"
            ],
            "application/vnd.google.colaboratory.intrinsic+json": {
              "type": "string"
            }
          },
          "metadata": {},
          "execution_count": 9
        }
      ]
    },
    {
      "cell_type": "markdown",
      "source": [
        "## Tokenization - Sequences and padding\n",
        "\n",
        "Now that you have sets for training and validation it is time for you to begin the tokenization process.\n",
        "\n",
        "Begin by completing the `fit_tokenizer` function below. This function should return a [Tokenizer](https://www.tensorflow.org/api_docs/python/tf/keras/preprocessing/text/Tokenizer) that has been fitted to the training sentences."
      ],
      "metadata": {
        "id": "CqadvPFGKTHd"
      }
    },
    {
      "metadata": {
        "_cell_guid": "40e6281c-2588-4ad0-991c-3d8d40791254",
        "_uuid": "0aa67be64bd63cf4350ce3f62d42c687b3143088",
        "trusted": true,
        "id": "Bi1I8CifOzsz",
        "colab": {
          "base_uri": "https://localhost:8080/"
        },
        "outputId": "5edbb31e-d55e-4b36-865e-78f4377f8bdc"
      },
      "cell_type": "code",
      "source": [
        "n_most_common_words = 8000\n",
        "max_len = 130\n",
        "tokenizer = Tokenizer(num_words=n_most_common_words, filters='!\"#$%&()*+,-./:;<=>?@[\\]^_`{|}~', lower=True)\n",
        "tokenizer.fit_on_texts(concated['Gejala'].values)\n",
        "sequences = tokenizer.texts_to_sequences(concated['Gejala'].values)\n",
        "word_index = tokenizer.word_index\n",
        "print('Found %s unique tokens.' % len(word_index))\n",
        "\n",
        "X = pad_sequences(sequences, maxlen=max_len)"
      ],
      "execution_count": null,
      "outputs": [
        {
          "output_type": "stream",
          "name": "stdout",
          "text": [
            "Found 705 unique tokens.\n"
          ]
        }
      ]
    },
    {
      "cell_type": "markdown",
      "source": [
        "## Split data"
      ],
      "metadata": {
        "id": "CUlb6t16DUVI"
      }
    },
    {
      "metadata": {
        "_cell_guid": "2ca496ca-4bb7-40de-bf69-d86b521af51f",
        "_uuid": "97226bf26ef141c228a1123e125ef7966612db47",
        "collapsed": true,
        "trusted": true,
        "id": "xuF4c7Q-Ozs3"
      },
      "cell_type": "code",
      "source": [
        "X_train, X_test, y_train, y_test = train_test_split(X , labels, test_size=0.25, random_state=21)"
      ],
      "execution_count": null,
      "outputs": []
    },
    {
      "cell_type": "code",
      "source": [
        "X_test"
      ],
      "metadata": {
        "colab": {
          "base_uri": "https://localhost:8080/"
        },
        "id": "pSrS_P8gC9JI",
        "outputId": "8cb11be1-8c4f-4de3-80dc-9748a428a11f"
      },
      "execution_count": null,
      "outputs": [
        {
          "output_type": "execute_result",
          "data": {
            "text/plain": [
              "array([[  0,   0,   0, ..., 147, 634, 635],\n",
              "       [  0,   0,   0, ...,  31,  11,  33],\n",
              "       [  0,   0,   0, ...,  14, 195, 688],\n",
              "       ...,\n",
              "       [  0,   0,   0, ...,   8,  11,  10],\n",
              "       [  0,   0,   0, ..., 116,  89, 417],\n",
              "       [  0,   0,   0, ...,   3,  14,  10]], dtype=int32)"
            ]
          },
          "metadata": {},
          "execution_count": 12
        }
      ]
    },
    {
      "metadata": {
        "_cell_guid": "4e5bcf7a-4c6b-44fc-963d-415b9338abe4",
        "_uuid": "28940e621602cfd9645a88dd43427b2431c75b5b",
        "trusted": true,
        "id": "qlB66BeiOzs6",
        "colab": {
          "base_uri": "https://localhost:8080/"
        },
        "outputId": "6fc382f5-5d0f-4118-8eda-7fcef18fcad3"
      },
      "cell_type": "code",
      "source": [
        "epochs = 100\n",
        "emb_dim = 128\n",
        "batch_size = 64\n",
        "labels[:6]"
      ],
      "execution_count": null,
      "outputs": [
        {
          "output_type": "execute_result",
          "data": {
            "text/plain": [
              "array([[0., 0., 0., 0., 1., 0.],\n",
              "       [0., 0., 0., 0., 0., 1.],\n",
              "       [0., 0., 1., 0., 0., 0.],\n",
              "       [0., 0., 0., 0., 1., 0.],\n",
              "       [0., 1., 0., 0., 0., 0.],\n",
              "       [0., 0., 1., 0., 0., 0.]], dtype=float32)"
            ]
          },
          "metadata": {},
          "execution_count": 13
        }
      ]
    },
    {
      "cell_type": "markdown",
      "source": [
        "# Define a model "
      ],
      "metadata": {
        "id": "SqUPrxisEmgG"
      }
    },
    {
      "metadata": {
        "_cell_guid": "79a42a6f-01f4-4e74-b645-321f2a0a6e39",
        "_uuid": "f50c8494777ca5141da8c23bb932e531a82b89d5",
        "trusted": true,
        "id": "pxI8aMMeOzs-",
        "colab": {
          "base_uri": "https://localhost:8080/"
        },
        "outputId": "17867cb9-1ba7-48fa-9baa-55622a91b0f7"
      },
      "cell_type": "code",
      "source": [
        "print((X_train.shape, y_train.shape, X_test.shape, y_test.shape))\n",
        "\n",
        "model = Sequential()\n",
        "model.add(Embedding(n_most_common_words, emb_dim, input_length=X.shape[1]))\n",
        "model.add(SpatialDropout1D(0.3))\n",
        "model.add(LSTM(100, dropout=0.3, recurrent_dropout=0.3))\n",
        "#model.add(Dense(64, activation='relu'))\n",
        "model.add(Dense(6, activation='softmax'))\n",
        "\n",
        "model.compile(optimizer='adam', loss='categorical_crossentropy', metrics=['acc'])\n",
        "print(model.summary())\n"
      ],
      "execution_count": null,
      "outputs": [
        {
          "output_type": "stream",
          "name": "stdout",
          "text": [
            "((243, 130), (243, 6), (82, 130), (82, 6))\n",
            "Model: \"sequential\"\n",
            "_________________________________________________________________\n",
            " Layer (type)                Output Shape              Param #   \n",
            "=================================================================\n",
            " embedding (Embedding)       (None, 130, 128)          1024000   \n",
            "                                                                 \n",
            " spatial_dropout1d (SpatialD  (None, 130, 128)         0         \n",
            " ropout1D)                                                       \n",
            "                                                                 \n",
            " lstm (LSTM)                 (None, 100)               91600     \n",
            "                                                                 \n",
            " dense (Dense)               (None, 6)                 606       \n",
            "                                                                 \n",
            "=================================================================\n",
            "Total params: 1,116,206\n",
            "Trainable params: 1,116,206\n",
            "Non-trainable params: 0\n",
            "_________________________________________________________________\n",
            "None\n"
          ]
        }
      ]
    },
    {
      "cell_type": "code",
      "source": [
        "history = model.fit(X_train, y_train, epochs=epochs, batch_size=batch_size,validation_split=0.2,\n",
        "                    )"
      ],
      "metadata": {
        "colab": {
          "base_uri": "https://localhost:8080/"
        },
        "id": "oBhvL1KELd3y",
        "outputId": "c163fd48-5246-43c6-9e0f-78fbcebe6d53"
      },
      "execution_count": null,
      "outputs": [
        {
          "output_type": "stream",
          "name": "stdout",
          "text": [
            "Epoch 1/100\n",
            "4/4 [==============================] - 5s 500ms/step - loss: 1.7928 - acc: 0.1443 - val_loss: 1.7837 - val_acc: 0.2857\n",
            "Epoch 2/100\n",
            "4/4 [==============================] - 1s 325ms/step - loss: 1.7768 - acc: 0.2990 - val_loss: 1.7755 - val_acc: 0.2245\n",
            "Epoch 3/100\n",
            "4/4 [==============================] - 1s 321ms/step - loss: 1.7618 - acc: 0.2474 - val_loss: 1.7740 - val_acc: 0.1837\n",
            "Epoch 4/100\n",
            "4/4 [==============================] - 1s 326ms/step - loss: 1.7454 - acc: 0.1959 - val_loss: 1.7854 - val_acc: 0.1837\n",
            "Epoch 5/100\n",
            "4/4 [==============================] - 1s 327ms/step - loss: 1.7520 - acc: 0.1907 - val_loss: 1.7886 - val_acc: 0.1837\n",
            "Epoch 6/100\n",
            "4/4 [==============================] - 1s 325ms/step - loss: 1.7342 - acc: 0.2165 - val_loss: 1.7679 - val_acc: 0.2245\n",
            "Epoch 7/100\n",
            "4/4 [==============================] - 1s 323ms/step - loss: 1.7094 - acc: 0.2887 - val_loss: 1.7631 - val_acc: 0.2449\n",
            "Epoch 8/100\n",
            "4/4 [==============================] - 1s 326ms/step - loss: 1.7032 - acc: 0.3505 - val_loss: 1.7644 - val_acc: 0.1837\n",
            "Epoch 9/100\n",
            "4/4 [==============================] - 1s 323ms/step - loss: 1.6873 - acc: 0.2732 - val_loss: 1.7546 - val_acc: 0.1837\n",
            "Epoch 10/100\n",
            "4/4 [==============================] - 2s 489ms/step - loss: 1.6691 - acc: 0.2680 - val_loss: 1.7383 - val_acc: 0.1837\n",
            "Epoch 11/100\n",
            "4/4 [==============================] - 3s 647ms/step - loss: 1.6417 - acc: 0.3505 - val_loss: 1.7186 - val_acc: 0.2041\n",
            "Epoch 12/100\n",
            "4/4 [==============================] - 2s 380ms/step - loss: 1.6124 - acc: 0.4639 - val_loss: 1.7007 - val_acc: 0.2857\n",
            "Epoch 13/100\n",
            "4/4 [==============================] - 1s 324ms/step - loss: 1.5811 - acc: 0.5567 - val_loss: 1.6780 - val_acc: 0.3673\n",
            "Epoch 14/100\n",
            "4/4 [==============================] - 1s 325ms/step - loss: 1.5349 - acc: 0.6289 - val_loss: 1.6500 - val_acc: 0.3878\n",
            "Epoch 15/100\n",
            "4/4 [==============================] - 1s 324ms/step - loss: 1.4655 - acc: 0.6340 - val_loss: 1.6114 - val_acc: 0.4490\n",
            "Epoch 16/100\n",
            "4/4 [==============================] - 1s 328ms/step - loss: 1.3968 - acc: 0.5825 - val_loss: 1.5842 - val_acc: 0.3878\n",
            "Epoch 17/100\n",
            "4/4 [==============================] - 1s 318ms/step - loss: 1.3293 - acc: 0.4742 - val_loss: 1.5298 - val_acc: 0.4082\n",
            "Epoch 18/100\n",
            "4/4 [==============================] - 1s 324ms/step - loss: 1.2815 - acc: 0.5000 - val_loss: 1.4731 - val_acc: 0.4898\n",
            "Epoch 19/100\n",
            "4/4 [==============================] - 1s 323ms/step - loss: 1.1655 - acc: 0.6134 - val_loss: 1.4237 - val_acc: 0.5714\n",
            "Epoch 20/100\n",
            "4/4 [==============================] - 1s 325ms/step - loss: 1.0737 - acc: 0.6546 - val_loss: 1.3743 - val_acc: 0.6122\n",
            "Epoch 21/100\n",
            "4/4 [==============================] - 1s 322ms/step - loss: 0.9813 - acc: 0.7526 - val_loss: 1.3127 - val_acc: 0.6122\n",
            "Epoch 22/100\n",
            "4/4 [==============================] - 1s 320ms/step - loss: 0.8940 - acc: 0.7474 - val_loss: 1.2742 - val_acc: 0.5918\n",
            "Epoch 23/100\n",
            "4/4 [==============================] - 1s 323ms/step - loss: 0.8403 - acc: 0.7629 - val_loss: 1.3055 - val_acc: 0.6327\n",
            "Epoch 24/100\n",
            "4/4 [==============================] - 1s 323ms/step - loss: 0.7727 - acc: 0.8144 - val_loss: 1.2839 - val_acc: 0.5918\n",
            "Epoch 25/100\n",
            "4/4 [==============================] - 1s 323ms/step - loss: 0.7184 - acc: 0.8711 - val_loss: 1.2196 - val_acc: 0.6122\n",
            "Epoch 26/100\n",
            "4/4 [==============================] - 1s 326ms/step - loss: 0.6541 - acc: 0.8866 - val_loss: 1.1706 - val_acc: 0.5918\n",
            "Epoch 27/100\n",
            "4/4 [==============================] - 1s 323ms/step - loss: 0.5540 - acc: 0.8969 - val_loss: 1.1751 - val_acc: 0.6122\n",
            "Epoch 28/100\n",
            "4/4 [==============================] - 1s 323ms/step - loss: 0.4939 - acc: 0.8814 - val_loss: 1.1175 - val_acc: 0.6735\n",
            "Epoch 29/100\n",
            "4/4 [==============================] - 1s 321ms/step - loss: 0.4575 - acc: 0.8660 - val_loss: 1.0223 - val_acc: 0.6735\n",
            "Epoch 30/100\n",
            "4/4 [==============================] - 1s 321ms/step - loss: 0.4039 - acc: 0.9072 - val_loss: 1.1124 - val_acc: 0.5714\n",
            "Epoch 31/100\n",
            "4/4 [==============================] - 1s 321ms/step - loss: 0.3522 - acc: 0.9278 - val_loss: 1.1322 - val_acc: 0.5714\n",
            "Epoch 32/100\n",
            "4/4 [==============================] - 1s 328ms/step - loss: 0.3310 - acc: 0.9536 - val_loss: 1.0116 - val_acc: 0.6122\n",
            "Epoch 33/100\n",
            "4/4 [==============================] - 1s 329ms/step - loss: 0.3331 - acc: 0.9485 - val_loss: 0.9879 - val_acc: 0.6531\n",
            "Epoch 34/100\n",
            "4/4 [==============================] - 1s 323ms/step - loss: 0.3187 - acc: 0.9485 - val_loss: 0.9778 - val_acc: 0.6531\n",
            "Epoch 35/100\n",
            "4/4 [==============================] - 1s 324ms/step - loss: 0.2750 - acc: 0.9588 - val_loss: 0.9847 - val_acc: 0.6531\n",
            "Epoch 36/100\n",
            "4/4 [==============================] - 1s 326ms/step - loss: 0.2467 - acc: 0.9588 - val_loss: 1.0322 - val_acc: 0.6531\n",
            "Epoch 37/100\n",
            "4/4 [==============================] - 1s 319ms/step - loss: 0.2172 - acc: 0.9536 - val_loss: 1.1089 - val_acc: 0.5714\n",
            "Epoch 38/100\n",
            "4/4 [==============================] - 1s 321ms/step - loss: 0.1872 - acc: 0.9691 - val_loss: 1.2163 - val_acc: 0.5714\n",
            "Epoch 39/100\n",
            "4/4 [==============================] - 1s 323ms/step - loss: 0.1705 - acc: 0.9742 - val_loss: 1.3511 - val_acc: 0.5714\n",
            "Epoch 40/100\n",
            "4/4 [==============================] - 1s 325ms/step - loss: 0.1792 - acc: 0.9588 - val_loss: 1.3094 - val_acc: 0.5714\n",
            "Epoch 41/100\n",
            "4/4 [==============================] - 1s 324ms/step - loss: 0.1649 - acc: 0.9639 - val_loss: 1.1404 - val_acc: 0.5510\n",
            "Epoch 42/100\n",
            "4/4 [==============================] - 1s 319ms/step - loss: 0.1476 - acc: 0.9691 - val_loss: 1.0372 - val_acc: 0.6122\n",
            "Epoch 43/100\n",
            "4/4 [==============================] - 1s 325ms/step - loss: 0.1314 - acc: 0.9742 - val_loss: 1.0361 - val_acc: 0.6531\n",
            "Epoch 44/100\n",
            "4/4 [==============================] - 1s 325ms/step - loss: 0.1344 - acc: 0.9691 - val_loss: 1.0471 - val_acc: 0.6531\n",
            "Epoch 45/100\n",
            "4/4 [==============================] - 1s 321ms/step - loss: 0.1124 - acc: 0.9897 - val_loss: 1.0761 - val_acc: 0.5918\n",
            "Epoch 46/100\n",
            "4/4 [==============================] - 1s 324ms/step - loss: 0.1036 - acc: 0.9742 - val_loss: 1.1406 - val_acc: 0.5306\n",
            "Epoch 47/100\n",
            "4/4 [==============================] - 1s 321ms/step - loss: 0.1065 - acc: 0.9794 - val_loss: 1.2019 - val_acc: 0.5102\n",
            "Epoch 48/100\n",
            "4/4 [==============================] - 1s 325ms/step - loss: 0.1196 - acc: 0.9742 - val_loss: 1.2464 - val_acc: 0.5102\n",
            "Epoch 49/100\n",
            "4/4 [==============================] - 1s 323ms/step - loss: 0.1062 - acc: 0.9794 - val_loss: 1.2874 - val_acc: 0.5306\n",
            "Epoch 50/100\n",
            "4/4 [==============================] - 1s 323ms/step - loss: 0.0974 - acc: 0.9794 - val_loss: 1.3111 - val_acc: 0.5306\n",
            "Epoch 51/100\n",
            "4/4 [==============================] - 1s 324ms/step - loss: 0.0814 - acc: 0.9794 - val_loss: 1.3201 - val_acc: 0.5306\n",
            "Epoch 52/100\n",
            "4/4 [==============================] - 1s 324ms/step - loss: 0.0836 - acc: 0.9742 - val_loss: 1.3193 - val_acc: 0.5510\n",
            "Epoch 53/100\n",
            "4/4 [==============================] - 1s 324ms/step - loss: 0.0686 - acc: 0.9897 - val_loss: 1.3020 - val_acc: 0.5714\n",
            "Epoch 54/100\n",
            "4/4 [==============================] - 1s 321ms/step - loss: 0.0687 - acc: 0.9845 - val_loss: 1.2962 - val_acc: 0.5510\n",
            "Epoch 55/100\n",
            "4/4 [==============================] - 1s 320ms/step - loss: 0.0696 - acc: 0.9897 - val_loss: 1.2866 - val_acc: 0.5306\n",
            "Epoch 56/100\n",
            "4/4 [==============================] - 1s 323ms/step - loss: 0.0698 - acc: 0.9845 - val_loss: 1.2702 - val_acc: 0.5510\n",
            "Epoch 57/100\n",
            "4/4 [==============================] - 1s 325ms/step - loss: 0.0633 - acc: 0.9845 - val_loss: 1.2929 - val_acc: 0.5510\n",
            "Epoch 58/100\n",
            "4/4 [==============================] - 1s 324ms/step - loss: 0.0668 - acc: 0.9794 - val_loss: 1.2863 - val_acc: 0.5510\n",
            "Epoch 59/100\n",
            "4/4 [==============================] - 1s 321ms/step - loss: 0.0536 - acc: 0.9948 - val_loss: 1.3096 - val_acc: 0.5714\n",
            "Epoch 60/100\n",
            "4/4 [==============================] - 1s 323ms/step - loss: 0.0567 - acc: 0.9845 - val_loss: 1.3939 - val_acc: 0.5714\n",
            "Epoch 61/100\n",
            "4/4 [==============================] - 1s 321ms/step - loss: 0.0510 - acc: 0.9948 - val_loss: 1.4056 - val_acc: 0.5510\n",
            "Epoch 62/100\n",
            "4/4 [==============================] - 1s 325ms/step - loss: 0.0562 - acc: 0.9794 - val_loss: 1.4031 - val_acc: 0.5714\n",
            "Epoch 63/100\n",
            "4/4 [==============================] - 1s 326ms/step - loss: 0.0504 - acc: 0.9897 - val_loss: 1.3949 - val_acc: 0.5918\n",
            "Epoch 64/100\n",
            "4/4 [==============================] - 1s 333ms/step - loss: 0.0499 - acc: 0.9845 - val_loss: 1.3992 - val_acc: 0.5918\n",
            "Epoch 65/100\n",
            "4/4 [==============================] - 1s 326ms/step - loss: 0.0563 - acc: 0.9845 - val_loss: 1.3710 - val_acc: 0.5714\n",
            "Epoch 66/100\n",
            "4/4 [==============================] - 1s 322ms/step - loss: 0.0472 - acc: 0.9897 - val_loss: 1.4280 - val_acc: 0.5306\n",
            "Epoch 67/100\n",
            "4/4 [==============================] - 1s 325ms/step - loss: 0.0469 - acc: 0.9897 - val_loss: 1.4990 - val_acc: 0.5102\n",
            "Epoch 68/100\n",
            "4/4 [==============================] - 1s 320ms/step - loss: 0.0444 - acc: 0.9845 - val_loss: 1.5631 - val_acc: 0.5306\n",
            "Epoch 69/100\n",
            "4/4 [==============================] - 1s 325ms/step - loss: 0.0363 - acc: 0.9897 - val_loss: 1.6229 - val_acc: 0.5306\n",
            "Epoch 70/100\n",
            "4/4 [==============================] - 1s 329ms/step - loss: 0.0436 - acc: 0.9845 - val_loss: 1.5783 - val_acc: 0.5510\n",
            "Epoch 71/100\n",
            "4/4 [==============================] - 1s 326ms/step - loss: 0.0453 - acc: 0.9897 - val_loss: 1.5319 - val_acc: 0.5510\n",
            "Epoch 72/100\n",
            "4/4 [==============================] - 1s 333ms/step - loss: 0.0415 - acc: 0.9897 - val_loss: 1.4813 - val_acc: 0.5510\n",
            "Epoch 73/100\n",
            "4/4 [==============================] - 1s 324ms/step - loss: 0.0299 - acc: 0.9897 - val_loss: 1.4996 - val_acc: 0.5102\n",
            "Epoch 74/100\n",
            "4/4 [==============================] - 1s 330ms/step - loss: 0.0553 - acc: 0.9897 - val_loss: 1.5420 - val_acc: 0.5306\n",
            "Epoch 75/100\n",
            "4/4 [==============================] - 1s 324ms/step - loss: 0.0477 - acc: 0.9794 - val_loss: 1.4794 - val_acc: 0.5306\n",
            "Epoch 76/100\n",
            "4/4 [==============================] - 1s 323ms/step - loss: 0.0321 - acc: 0.9948 - val_loss: 1.4447 - val_acc: 0.5102\n",
            "Epoch 77/100\n",
            "4/4 [==============================] - 1s 320ms/step - loss: 0.0392 - acc: 0.9897 - val_loss: 1.4517 - val_acc: 0.5510\n",
            "Epoch 78/100\n",
            "4/4 [==============================] - 1s 326ms/step - loss: 0.0300 - acc: 0.9845 - val_loss: 1.4622 - val_acc: 0.5510\n",
            "Epoch 79/100\n",
            "4/4 [==============================] - 1s 320ms/step - loss: 0.0246 - acc: 1.0000 - val_loss: 1.4853 - val_acc: 0.5510\n",
            "Epoch 80/100\n",
            "4/4 [==============================] - 1s 331ms/step - loss: 0.0200 - acc: 1.0000 - val_loss: 1.5140 - val_acc: 0.5510\n",
            "Epoch 81/100\n",
            "4/4 [==============================] - 1s 319ms/step - loss: 0.0317 - acc: 0.9948 - val_loss: 1.5466 - val_acc: 0.5510\n",
            "Epoch 82/100\n",
            "4/4 [==============================] - 1s 324ms/step - loss: 0.0310 - acc: 0.9794 - val_loss: 1.5871 - val_acc: 0.5510\n",
            "Epoch 83/100\n",
            "4/4 [==============================] - 1s 319ms/step - loss: 0.0313 - acc: 0.9845 - val_loss: 1.6039 - val_acc: 0.5306\n",
            "Epoch 84/100\n",
            "4/4 [==============================] - 1s 323ms/step - loss: 0.0363 - acc: 0.9794 - val_loss: 1.6231 - val_acc: 0.5102\n",
            "Epoch 85/100\n",
            "4/4 [==============================] - 1s 322ms/step - loss: 0.0255 - acc: 0.9897 - val_loss: 1.6120 - val_acc: 0.5102\n",
            "Epoch 86/100\n",
            "4/4 [==============================] - 1s 325ms/step - loss: 0.0370 - acc: 0.9845 - val_loss: 1.6342 - val_acc: 0.5102\n",
            "Epoch 87/100\n",
            "4/4 [==============================] - 1s 322ms/step - loss: 0.0331 - acc: 0.9845 - val_loss: 1.6637 - val_acc: 0.5102\n",
            "Epoch 88/100\n",
            "4/4 [==============================] - 1s 329ms/step - loss: 0.0210 - acc: 0.9948 - val_loss: 1.6548 - val_acc: 0.5102\n",
            "Epoch 89/100\n",
            "4/4 [==============================] - 1s 321ms/step - loss: 0.0292 - acc: 0.9897 - val_loss: 1.6632 - val_acc: 0.5102\n",
            "Epoch 90/100\n",
            "4/4 [==============================] - 1s 321ms/step - loss: 0.0277 - acc: 0.9948 - val_loss: 1.6844 - val_acc: 0.5102\n",
            "Epoch 91/100\n",
            "4/4 [==============================] - 1s 317ms/step - loss: 0.0269 - acc: 0.9897 - val_loss: 1.6747 - val_acc: 0.5102\n",
            "Epoch 92/100\n",
            "4/4 [==============================] - 1s 324ms/step - loss: 0.0201 - acc: 0.9948 - val_loss: 1.7067 - val_acc: 0.5306\n",
            "Epoch 93/100\n",
            "4/4 [==============================] - 1s 328ms/step - loss: 0.0425 - acc: 0.9845 - val_loss: 1.6415 - val_acc: 0.5306\n",
            "Epoch 94/100\n",
            "4/4 [==============================] - 1s 321ms/step - loss: 0.0162 - acc: 0.9948 - val_loss: 1.6197 - val_acc: 0.5306\n",
            "Epoch 95/100\n",
            "4/4 [==============================] - 1s 321ms/step - loss: 0.0240 - acc: 0.9897 - val_loss: 1.6082 - val_acc: 0.5102\n",
            "Epoch 96/100\n",
            "4/4 [==============================] - 1s 324ms/step - loss: 0.0273 - acc: 0.9845 - val_loss: 1.6181 - val_acc: 0.5102\n",
            "Epoch 97/100\n",
            "4/4 [==============================] - 1s 324ms/step - loss: 0.0275 - acc: 0.9897 - val_loss: 1.6555 - val_acc: 0.5306\n",
            "Epoch 98/100\n",
            "4/4 [==============================] - 1s 326ms/step - loss: 0.0230 - acc: 0.9897 - val_loss: 1.6704 - val_acc: 0.5306\n",
            "Epoch 99/100\n",
            "4/4 [==============================] - 1s 323ms/step - loss: 0.0299 - acc: 0.9845 - val_loss: 1.6742 - val_acc: 0.5306\n",
            "Epoch 100/100\n",
            "4/4 [==============================] - 1s 324ms/step - loss: 0.0258 - acc: 0.9897 - val_loss: 1.6865 - val_acc: 0.5306\n"
          ]
        }
      ]
    },
    {
      "metadata": {
        "_cell_guid": "fa53cfb9-75f7-47ee-b53d-b7f241ee082a",
        "_uuid": "a16c336b7eae3d72c7c92cf799702eacf70677c7",
        "trusted": true,
        "id": "9HtGTkB5OztE",
        "colab": {
          "base_uri": "https://localhost:8080/"
        },
        "outputId": "93bb79f0-ab67-4796-e01c-456ed80e2feb"
      },
      "cell_type": "code",
      "source": [
        "accr = model.evaluate(X_test,y_test)\n",
        "print('Test set\\n  Loss: {:0.3f}\\n  Accuracy: {:0.3f}'.format(accr[0],accr[1]))"
      ],
      "execution_count": null,
      "outputs": [
        {
          "output_type": "stream",
          "name": "stdout",
          "text": [
            "3/3 [==============================] - 0s 32ms/step - loss: 1.6730 - acc: 0.5976\n",
            "Test set\n",
            "  Loss: 1.673\n",
            "  Accuracy: 0.598\n"
          ]
        }
      ]
    },
    {
      "metadata": {
        "_cell_guid": "1130440c-dd13-4f36-9657-01b13f322efb",
        "_uuid": "f8400fe47eebbb7e8456d6f3617c6bcd7eccecf6",
        "trusted": true,
        "id": "GfLUIo4WOztH",
        "colab": {
          "base_uri": "https://localhost:8080/",
          "height": 545
        },
        "outputId": "41f25c06-28fa-47fb-e1a9-f1cf56b8fad6"
      },
      "cell_type": "code",
      "source": [
        "import matplotlib.pyplot as plt\n",
        "\n",
        "acc = history.history['acc']\n",
        "val_acc = history.history['val_acc']\n",
        "loss = history.history['loss']\n",
        "val_loss = history.history['val_loss']\n",
        "\n",
        "epochs = range(1, len(acc) + 1)\n",
        "\n",
        "plt.plot(epochs, acc, 'bo', label='Training acc')\n",
        "plt.plot(epochs, val_acc, 'b', label='Validation acc')\n",
        "plt.title('Training and validation accuracy')\n",
        "plt.legend()\n",
        "\n",
        "plt.figure()\n",
        "\n",
        "plt.plot(epochs, loss, 'bo', label='Training loss')\n",
        "plt.plot(epochs, val_loss, 'b', label='Validation loss')\n",
        "plt.title('Training and validation loss')\n",
        "plt.legend()\n",
        "\n",
        "plt.show()"
      ],
      "execution_count": null,
      "outputs": [
        {
          "output_type": "display_data",
          "data": {
            "text/plain": [
              "<Figure size 432x288 with 1 Axes>"
            ],
            "image/png": "[encoded data removed]"
          },
          "metadata": {
            "needs_background": "light"
          }
        },
        {
          "output_type": "display_data",
          "data": {
            "text/plain": [
              "<Figure size 432x288 with 1 Axes>"
            ],
            "image/png": "[encoded data removed]"
          },
          "metadata": {
            "needs_background": "light"
          }
        }
      ]
    },
    {
      "cell_type": "markdown",
      "source": [
        "##Test the Model"
      ],
      "metadata": {
        "id": "FRaFevoaEym4"
      }
    },
    {
      "cell_type": "code",
      "source": [
        "def test_pred(text):\n",
        "  input = []\n",
        "  input.append(text)\n",
        "  seq = tokenizer.texts_to_sequences(input)\n",
        "  padded = pad_sequences(seq, maxlen=max_len)\n",
        "  pred = model.predict(padded)\n",
        "  labels = ['Karies Gigi', 'karang Gigi', 'Abses Gigi', 'Radang Gusi','Bukan Gejala Penyakit','Sariawan']\n",
        "  print(pred, labels[np.argmax(pred)])"
      ],
      "metadata": {
        "id": "MfCPsqfrIjzg"
      },
      "execution_count": null,
      "outputs": []
    },
    {
      "cell_type": "code",
      "source": [
        "test_pred('ada yg  bolong pada gigiku')"
      ],
      "metadata": {
        "colab": {
          "base_uri": "https://localhost:8080/"
        },
        "id": "-RMrf_EvzWgf",
        "outputId": "574f43fa-8f6f-4142-8938-ae678564cc60"
      },
      "execution_count": null,
      "outputs": [
        {
          "output_type": "stream",
          "name": "stdout",
          "text": [
            "[[9.8888075e-01 7.4397452e-04 7.7258926e-03 1.7273164e-04 5.8260141e-04\n",
            "  1.8941655e-03]] Karies Gigi\n"
          ]
        }
      ]
    },
    {
      "cell_type": "code",
      "source": [
        "test_pred('ada lapisan kasar dan keras di garis gusi saya')"
      ],
      "metadata": {
        "colab": {
          "base_uri": "https://localhost:8080/"
        },
        "id": "yK_gKF73zf0F",
        "outputId": "63530989-a364-412c-a7fa-6b24c011e0e8"
      },
      "execution_count": null,
      "outputs": [
        {
          "output_type": "stream",
          "name": "stdout",
          "text": [
            "[[1.7589445e-08 9.9983764e-01 8.2612434e-07 1.4592528e-04 2.0523443e-07\n",
            "  1.5401989e-05]] karang Gigi\n"
          ]
        }
      ]
    },
    {
      "cell_type": "code",
      "source": [
        "test_pred('jika memakan sesuatu yang dingin gigiku terasa nyeri')"
      ],
      "metadata": {
        "colab": {
          "base_uri": "https://localhost:8080/"
        },
        "id": "LGQw_Ut6ziHV",
        "outputId": "f45d7f24-c489-4cc6-9151-93955ca66cf4"
      },
      "execution_count": null,
      "outputs": [
        {
          "output_type": "stream",
          "name": "stdout",
          "text": [
            "[[4.1645279e-05 4.4641027e-01 1.4635378e-03 5.5199671e-01 3.8595084e-05\n",
            "  4.9248472e-05]] Radang Gusi\n"
          ]
        }
      ]
    },
    {
      "cell_type": "code",
      "source": [
        "test_pred('Ujung gusi mengalami pengikisan')"
      ],
      "metadata": {
        "colab": {
          "base_uri": "https://localhost:8080/"
        },
        "id": "bIl_k_REzohE",
        "outputId": "e6fd3250-acdc-4a79-bffa-ddc99643e2c4"
      },
      "execution_count": null,
      "outputs": [
        {
          "output_type": "stream",
          "name": "stdout",
          "text": [
            "[[1.2176018e-05 1.7308517e-03 1.4676027e-04 9.9799323e-01 1.0772504e-04\n",
            "  9.3314575e-06]] Radang Gusi\n"
          ]
        }
      ]
    },
    {
      "cell_type": "code",
      "source": [
        "test_pred('ngantuk')"
      ],
      "metadata": {
        "colab": {
          "base_uri": "https://localhost:8080/"
        },
        "id": "HvRHSI08In5j",
        "outputId": "816098a8-9aa4-4f42-ffe6-463253340f3b"
      },
      "execution_count": null,
      "outputs": [
        {
          "output_type": "stream",
          "name": "stdout",
          "text": [
            "[[7.1196300e-03 1.4771847e-03 3.2830036e-03 1.3538724e-03 9.8600686e-01\n",
            "  7.5948465e-04]] Bukan Gejala Penyakit\n"
          ]
        }
      ]
    },
    {
      "cell_type": "code",
      "source": [
        "test_pred('ada luka berbentuk bulat berwarna putih')"
      ],
      "metadata": {
        "colab": {
          "base_uri": "https://localhost:8080/"
        },
        "id": "MeRgTq-II-L7",
        "outputId": "5e5313f1-ab7c-4ee0-c9b2-6b3524f245a6"
      },
      "execution_count": null,
      "outputs": [
        {
          "output_type": "stream",
          "name": "stdout",
          "text": [
            "[[3.3239743e-05 3.5281526e-04 1.4495502e-04 1.5997647e-04 2.3650171e-05\n",
            "  9.9928540e-01]] Sariawan\n"
          ]
        }
      ]
    },
    {
      "cell_type": "code",
      "source": [
        "test_pred('bengkak di gigi')"
      ],
      "metadata": {
        "colab": {
          "base_uri": "https://localhost:8080/"
        },
        "id": "qV5V9O2szuE1",
        "outputId": "09e3f6cd-d860-41d2-8420-984cd01d0f93"
      },
      "execution_count": null,
      "outputs": [
        {
          "output_type": "stream",
          "name": "stdout",
          "text": [
            "[[0.09466854 0.00637211 0.89006215 0.00335645 0.0044903  0.00105038]] Abses Gigi\n"
          ]
        }
      ]
    },
    {
      "cell_type": "markdown",
      "source": [
        "##Save Model"
      ],
      "metadata": {
        "id": "i4XMauvyRGCf"
      }
    },
    {
      "cell_type": "code",
      "source": [
        "model = tf.keras"
      ],
      "metadata": {
        "id": "PQIFvJGzJ0cT"
      },
      "execution_count": null,
      "outputs": []
    },
    {
      "cell_type": "markdown",
      "source": [
        "# Exporting to TFLite\n",
        "\n",
        "You will now save the model to TFLite. We should note, that you will probably see some warning messages when running the code below. These warnings have to do with software updates and should not cause any errors or prevent your code from running. "
      ],
      "metadata": {
        "id": "dCiFl66s3mrS"
      }
    },
    {
      "cell_type": "code",
      "source": [
        "import pickle \n",
        "pickle.dump(model,open('model.pkl','wb'))"
      ],
      "metadata": {
        "colab": {
          "base_uri": "https://localhost:8080/"
        },
        "id": "W6DCszv-BjKz",
        "outputId": "f94b746d-c2e6-49f0-a5e8-bb13388d1cec"
      },
      "execution_count": null,
      "outputs": [
        {
          "output_type": "stream",
          "name": "stdout",
          "text": [
            "INFO:tensorflow:Assets written to: ram://02171e19-513e-4084-a6d2-e3d4932babca/assets\n"
          ]
        },
        {
          "output_type": "stream",
          "name": "stderr",
          "text": [
            "INFO:tensorflow:Assets written to: ram://02171e19-513e-4084-a6d2-e3d4932babca/assets\n",
            "WARNING:absl:<keras.layers.recurrent.LSTMCell object at 0x7f256b4f4cd0> has the same name 'LSTMCell' as a built-in Keras object. Consider renaming <class 'keras.layers.recurrent.LSTMCell'> to avoid naming conflicts when loading with `tf.keras.models.load_model`. If renaming is not possible, pass the object in the `custom_objects` parameter of the load function.\n"
          ]
        }
      ]
    },
    {
      "cell_type": "code",
      "source": [
        "from flask import Flask,request,jsonify\n",
        "import numpy as np\n",
        "import pickle\n",
        "model = pickle.load(open('model.pkl','rb'))\n",
        "app = Flask(__name__)\n",
        "@app.route('/')\n",
        "def index():\n",
        "    return \"Hello world\"\n",
        "@app.route('/predict',methods=['POST'])\n",
        "def test_pred(text):\n",
        "    input = []\n",
        "    input.append(text)\n",
        "    seq = tokenizer.texts_to_sequences(input)\n",
        "    padded = pad_sequences(seq, maxlen=max_len)\n",
        "    pred = model.predict(padded)\n",
        "    labels = ['Karies Gigi', 'karang Gigi', 'Abses Gigi', 'Radang Gusi','Bukan Gejala Penyakit','Sariawan']\n",
        "    print(pred, labels[np.argmax(pred)])\n",
        "if __name__ == '__main__':\n",
        "    app.run(debug=True)"
      ],
      "metadata": {
        "colab": {
          "base_uri": "https://localhost:8080/",
          "height": 289
        },
        "id": "E7H7Z0ahDVdv",
        "outputId": "3752f59a-3543-4c0c-d13b-d3183ed23685"
      },
      "execution_count": null,
      "outputs": [
        {
          "output_type": "stream",
          "name": "stdout",
          "text": [
            " * Serving Flask app \"__main__\" (lazy loading)\n",
            " * Environment: production\n",
            "\u001b[31m   WARNING: This is a development server. Do not use it in a production deployment.\u001b[0m\n",
            "\u001b[2m   Use a production WSGI server instead.\u001b[0m\n",
            " * Debug mode: on\n"
          ]
        },
        {
          "output_type": "stream",
          "name": "stderr",
          "text": [
            "INFO:werkzeug: * Running on http://127.0.0.1:5000/ (Press CTRL+C to quit)\n",
            "INFO:werkzeug: * Restarting with stat\n"
          ]
        },
        {
          "output_type": "error",
          "ename": "SystemExit",
          "evalue": "ignored",
          "traceback": [
            "An exception has occurred, use %tb to see the full traceback.\n",
            "\u001b[0;31mSystemExit\u001b[0m\u001b[0;31m:\u001b[0m 1\n"
          ]
        },
        {
          "output_type": "stream",
          "name": "stderr",
          "text": [
            "/usr/local/lib/python3.7/dist-packages/IPython/core/interactiveshell.py:2890: UserWarning: To exit: use 'exit', 'quit', or Ctrl-D.\n",
            "  warn(\"To exit: use 'exit', 'quit', or Ctrl-D.\", stacklevel=1)\n"
          ]
        }
      ]
    },
    {
      "cell_type": "markdown",
      "source": [
        "##========================================="
      ],
      "metadata": {
        "id": "9x8huIV_DXr1"
      }
    },
    {
      "cell_type": "code",
      "source": [
        "# Save the entire model to a HDF5 file.\n",
        "# The '.h5' extension indicates that the model shuold be saved to HDF5.\n",
        "model.save('my_model.h5') "
      ],
      "metadata": {
        "id": "989AmJMURFlh"
      },
      "execution_count": null,
      "outputs": []
    },
    {
      "cell_type": "code",
      "source": [
        "converter = tf.lite.TFLiteConverter.from_saved_model(saved_model_dir='/content/saved_model/1', signature_keys=['serving_default'])\n",
        "converter.optimizations = [tf.lite.Optimize.DEFAULT]\n",
        "converter.experimental_new_converter = True\n",
        "\n",
        "tflite_model = converter.convert()\n",
        "\n",
        "# Save the model.\n",
        "with open('model_1.tflite', 'wb') as f:\n",
        "  f.write(tflite_model)\n",
        "\n",
        "from google.colab import files\n",
        "files.download('model_1.tflite')"
      ],
      "metadata": {
        "colab": {
          "base_uri": "https://localhost:8080/",
          "height": 641
        },
        "id": "wvOnI90-3Frq",
        "outputId": "84e942a5-7916-4c31-e4a2-dfc25787fad4"
      },
      "execution_count": null,
      "outputs": [
        {
          "output_type": "error",
          "ename": "ConverterError",
          "evalue": "ignored",
          "traceback": [
            "\u001b[0;31m---------------------------------------------------------------------------\u001b[0m",
            "\u001b[0;31mConverterError\u001b[0m                            Traceback (most recent call last)",
            "\u001b[0;32m<ipython-input-39-593816d13cb0>\u001b[0m in \u001b[0;36m<module>\u001b[0;34m()\u001b[0m\n\u001b[1;32m      3\u001b[0m \u001b[0mconverter\u001b[0m\u001b[0;34m.\u001b[0m\u001b[0mexperimental_new_converter\u001b[0m \u001b[0;34m=\u001b[0m \u001b[0;32mTrue\u001b[0m\u001b[0;34m\u001b[0m\u001b[0;34m\u001b[0m\u001b[0m\n\u001b[1;32m      4\u001b[0m \u001b[0;34m\u001b[0m\u001b[0m\n\u001b[0;32m----> 5\u001b[0;31m \u001b[0mtflite_model\u001b[0m \u001b[0;34m=\u001b[0m \u001b[0mconverter\u001b[0m\u001b[0;34m.\u001b[0m\u001b[0mconvert\u001b[0m\u001b[0;34m(\u001b[0m\u001b[0;34m)\u001b[0m\u001b[0;34m\u001b[0m\u001b[0;34m\u001b[0m\u001b[0m\n\u001b[0m\u001b[1;32m      6\u001b[0m \u001b[0;34m\u001b[0m\u001b[0m\n\u001b[1;32m      7\u001b[0m \u001b[0;31m# Save the model.\u001b[0m\u001b[0;34m\u001b[0m\u001b[0;34m\u001b[0m\u001b[0;34m\u001b[0m\u001b[0m\n",
            "\u001b[0;32m/usr/local/lib/python3.7/dist-packages/tensorflow/lite/python/lite.py\u001b[0m in \u001b[0;36mwrapper\u001b[0;34m(self, *args, **kwargs)\u001b[0m\n\u001b[1;32m    801\u001b[0m   \u001b[0;32mdef\u001b[0m \u001b[0mwrapper\u001b[0m\u001b[0;34m(\u001b[0m\u001b[0mself\u001b[0m\u001b[0;34m,\u001b[0m \u001b[0;34m*\u001b[0m\u001b[0margs\u001b[0m\u001b[0;34m,\u001b[0m \u001b[0;34m**\u001b[0m\u001b[0mkwargs\u001b[0m\u001b[0;34m)\u001b[0m\u001b[0;34m:\u001b[0m\u001b[0;34m\u001b[0m\u001b[0;34m\u001b[0m\u001b[0m\n\u001b[1;32m    802\u001b[0m     \u001b[0;31m# pylint: disable=protected-access\u001b[0m\u001b[0;34m\u001b[0m\u001b[0;34m\u001b[0m\u001b[0;34m\u001b[0m\u001b[0m\n\u001b[0;32m--> 803\u001b[0;31m     \u001b[0;32mreturn\u001b[0m \u001b[0mself\u001b[0m\u001b[0;34m.\u001b[0m\u001b[0m_convert_and_export_metrics\u001b[0m\u001b[0;34m(\u001b[0m\u001b[0mconvert_func\u001b[0m\u001b[0;34m,\u001b[0m \u001b[0;34m*\u001b[0m\u001b[0margs\u001b[0m\u001b[0;34m,\u001b[0m \u001b[0;34m**\u001b[0m\u001b[0mkwargs\u001b[0m\u001b[0;34m)\u001b[0m\u001b[0;34m\u001b[0m\u001b[0;34m\u001b[0m\u001b[0m\n\u001b[0m\u001b[1;32m    804\u001b[0m     \u001b[0;31m# pylint: enable=protected-access\u001b[0m\u001b[0;34m\u001b[0m\u001b[0;34m\u001b[0m\u001b[0;34m\u001b[0m\u001b[0m\n\u001b[1;32m    805\u001b[0m \u001b[0;34m\u001b[0m\u001b[0m\n",
            "\u001b[0;32m/usr/local/lib/python3.7/dist-packages/tensorflow/lite/python/lite.py\u001b[0m in \u001b[0;36m_convert_and_export_metrics\u001b[0;34m(self, convert_func, *args, **kwargs)\u001b[0m\n\u001b[1;32m    787\u001b[0m     \u001b[0mself\u001b[0m\u001b[0;34m.\u001b[0m\u001b[0m_save_conversion_params_metric\u001b[0m\u001b[0;34m(\u001b[0m\u001b[0;34m)\u001b[0m\u001b[0;34m\u001b[0m\u001b[0;34m\u001b[0m\u001b[0m\n\u001b[1;32m    788\u001b[0m     \u001b[0mstart_time\u001b[0m \u001b[0;34m=\u001b[0m \u001b[0mtime\u001b[0m\u001b[0;34m.\u001b[0m\u001b[0mprocess_time\u001b[0m\u001b[0;34m(\u001b[0m\u001b[0;34m)\u001b[0m\u001b[0;34m\u001b[0m\u001b[0;34m\u001b[0m\u001b[0m\n\u001b[0;32m--> 789\u001b[0;31m     \u001b[0mresult\u001b[0m \u001b[0;34m=\u001b[0m \u001b[0mconvert_func\u001b[0m\u001b[0;34m(\u001b[0m\u001b[0mself\u001b[0m\u001b[0;34m,\u001b[0m \u001b[0;34m*\u001b[0m\u001b[0margs\u001b[0m\u001b[0;34m,\u001b[0m \u001b[0;34m**\u001b[0m\u001b[0mkwargs\u001b[0m\u001b[0;34m)\u001b[0m\u001b[0;34m\u001b[0m\u001b[0;34m\u001b[0m\u001b[0m\n\u001b[0m\u001b[1;32m    790\u001b[0m     \u001b[0melapsed_time_ms\u001b[0m \u001b[0;34m=\u001b[0m \u001b[0;34m(\u001b[0m\u001b[0mtime\u001b[0m\u001b[0;34m.\u001b[0m\u001b[0mprocess_time\u001b[0m\u001b[0;34m(\u001b[0m\u001b[0;34m)\u001b[0m \u001b[0;34m-\u001b[0m \u001b[0mstart_time\u001b[0m\u001b[0;34m)\u001b[0m \u001b[0;34m*\u001b[0m \u001b[0;36m1000\u001b[0m\u001b[0;34m\u001b[0m\u001b[0;34m\u001b[0m\u001b[0m\n\u001b[1;32m    791\u001b[0m     \u001b[0;32mif\u001b[0m \u001b[0mresult\u001b[0m\u001b[0;34m:\u001b[0m\u001b[0;34m\u001b[0m\u001b[0;34m\u001b[0m\u001b[0m\n",
            "\u001b[0;32m/usr/local/lib/python3.7/dist-packages/tensorflow/lite/python/lite.py\u001b[0m in \u001b[0;36mconvert\u001b[0;34m(self)\u001b[0m\n\u001b[1;32m   1082\u001b[0m           graph_def)\n\u001b[1;32m   1083\u001b[0m \u001b[0;34m\u001b[0m\u001b[0m\n\u001b[0;32m-> 1084\u001b[0;31m     \u001b[0;32mreturn\u001b[0m \u001b[0mself\u001b[0m\u001b[0;34m.\u001b[0m\u001b[0m_convert_from_saved_model\u001b[0m\u001b[0;34m(\u001b[0m\u001b[0mgraph_def\u001b[0m\u001b[0;34m)\u001b[0m\u001b[0;34m\u001b[0m\u001b[0;34m\u001b[0m\u001b[0m\n\u001b[0m\u001b[1;32m   1085\u001b[0m \u001b[0;34m\u001b[0m\u001b[0m\n\u001b[1;32m   1086\u001b[0m \u001b[0;34m\u001b[0m\u001b[0m\n",
            "\u001b[0;32m/usr/local/lib/python3.7/dist-packages/tensorflow/lite/python/lite.py\u001b[0m in \u001b[0;36m_convert_from_saved_model\u001b[0;34m(self, graph_def)\u001b[0m\n\u001b[1;32m    965\u001b[0m     \u001b[0mconverter_kwargs\u001b[0m\u001b[0;34m.\u001b[0m\u001b[0mupdate\u001b[0m\u001b[0;34m(\u001b[0m\u001b[0mquant_mode\u001b[0m\u001b[0;34m.\u001b[0m\u001b[0mconverter_flags\u001b[0m\u001b[0;34m(\u001b[0m\u001b[0;34m)\u001b[0m\u001b[0;34m)\u001b[0m\u001b[0;34m\u001b[0m\u001b[0;34m\u001b[0m\u001b[0m\n\u001b[1;32m    966\u001b[0m \u001b[0;34m\u001b[0m\u001b[0m\n\u001b[0;32m--> 967\u001b[0;31m     \u001b[0mresult\u001b[0m \u001b[0;34m=\u001b[0m \u001b[0m_convert_saved_model\u001b[0m\u001b[0;34m(\u001b[0m\u001b[0;34m**\u001b[0m\u001b[0mconverter_kwargs\u001b[0m\u001b[0;34m)\u001b[0m\u001b[0;34m\u001b[0m\u001b[0;34m\u001b[0m\u001b[0m\n\u001b[0m\u001b[1;32m    968\u001b[0m     return self._optimize_tflite_model(\n\u001b[1;32m    969\u001b[0m         result, quant_mode, quant_io=self.experimental_new_quantizer)\n",
            "\u001b[0;32m/usr/local/lib/python3.7/dist-packages/tensorflow/lite/python/convert_phase.py\u001b[0m in \u001b[0;36mwrapper\u001b[0;34m(*args, **kwargs)\u001b[0m\n\u001b[1;32m    211\u001b[0m         \u001b[0;32melse\u001b[0m\u001b[0;34m:\u001b[0m\u001b[0;34m\u001b[0m\u001b[0;34m\u001b[0m\u001b[0m\n\u001b[1;32m    212\u001b[0m           \u001b[0mreport_error_message\u001b[0m\u001b[0;34m(\u001b[0m\u001b[0mstr\u001b[0m\u001b[0;34m(\u001b[0m\u001b[0mconverter_error\u001b[0m\u001b[0;34m)\u001b[0m\u001b[0;34m)\u001b[0m\u001b[0;34m\u001b[0m\u001b[0;34m\u001b[0m\u001b[0m\n\u001b[0;32m--> 213\u001b[0;31m         \u001b[0;32mraise\u001b[0m \u001b[0mconverter_error\u001b[0m \u001b[0;32mfrom\u001b[0m \u001b[0;32mNone\u001b[0m  \u001b[0;31m# Re-throws the exception.\u001b[0m\u001b[0;34m\u001b[0m\u001b[0;34m\u001b[0m\u001b[0m\n\u001b[0m\u001b[1;32m    214\u001b[0m       \u001b[0;32mexcept\u001b[0m \u001b[0mException\u001b[0m \u001b[0;32mas\u001b[0m \u001b[0merror\u001b[0m\u001b[0;34m:\u001b[0m\u001b[0;34m\u001b[0m\u001b[0;34m\u001b[0m\u001b[0m\n\u001b[1;32m    215\u001b[0m         \u001b[0mreport_error_message\u001b[0m\u001b[0;34m(\u001b[0m\u001b[0mstr\u001b[0m\u001b[0;34m(\u001b[0m\u001b[0merror\u001b[0m\u001b[0;34m)\u001b[0m\u001b[0;34m)\u001b[0m\u001b[0;34m\u001b[0m\u001b[0;34m\u001b[0m\u001b[0m\n",
            "\u001b[0;32m/usr/local/lib/python3.7/dist-packages/tensorflow/lite/python/convert_phase.py\u001b[0m in \u001b[0;36mwrapper\u001b[0;34m(*args, **kwargs)\u001b[0m\n\u001b[1;32m    204\u001b[0m     \u001b[0;32mdef\u001b[0m \u001b[0mwrapper\u001b[0m\u001b[0;34m(\u001b[0m\u001b[0;34m*\u001b[0m\u001b[0margs\u001b[0m\u001b[0;34m,\u001b[0m \u001b[0;34m**\u001b[0m\u001b[0mkwargs\u001b[0m\u001b[0;34m)\u001b[0m\u001b[0;34m:\u001b[0m\u001b[0;34m\u001b[0m\u001b[0;34m\u001b[0m\u001b[0m\n\u001b[1;32m    205\u001b[0m       \u001b[0;32mtry\u001b[0m\u001b[0;34m:\u001b[0m\u001b[0;34m\u001b[0m\u001b[0;34m\u001b[0m\u001b[0m\n\u001b[0;32m--> 206\u001b[0;31m         \u001b[0;32mreturn\u001b[0m \u001b[0mfunc\u001b[0m\u001b[0;34m(\u001b[0m\u001b[0;34m*\u001b[0m\u001b[0margs\u001b[0m\u001b[0;34m,\u001b[0m \u001b[0;34m**\u001b[0m\u001b[0mkwargs\u001b[0m\u001b[0;34m)\u001b[0m\u001b[0;34m\u001b[0m\u001b[0;34m\u001b[0m\u001b[0m\n\u001b[0m\u001b[1;32m    207\u001b[0m       \u001b[0;32mexcept\u001b[0m \u001b[0mConverterError\u001b[0m \u001b[0;32mas\u001b[0m \u001b[0mconverter_error\u001b[0m\u001b[0;34m:\u001b[0m\u001b[0;34m\u001b[0m\u001b[0;34m\u001b[0m\u001b[0m\n\u001b[1;32m    208\u001b[0m         \u001b[0;32mif\u001b[0m \u001b[0mconverter_error\u001b[0m\u001b[0;34m.\u001b[0m\u001b[0merrors\u001b[0m\u001b[0;34m:\u001b[0m\u001b[0;34m\u001b[0m\u001b[0;34m\u001b[0m\u001b[0m\n",
            "\u001b[0;32m/usr/local/lib/python3.7/dist-packages/tensorflow/lite/python/convert.py\u001b[0m in \u001b[0;36mconvert_saved_model\u001b[0;34m(**kwargs)\u001b[0m\n\u001b[1;32m    792\u001b[0m       \u001b[0minput_data_str\u001b[0m\u001b[0;34m=\u001b[0m\u001b[0;32mNone\u001b[0m\u001b[0;34m,\u001b[0m\u001b[0;34m\u001b[0m\u001b[0;34m\u001b[0m\u001b[0m\n\u001b[1;32m    793\u001b[0m       \u001b[0mdebug_info_str\u001b[0m\u001b[0;34m=\u001b[0m\u001b[0;32mNone\u001b[0m\u001b[0;34m,\u001b[0m\u001b[0;34m\u001b[0m\u001b[0;34m\u001b[0m\u001b[0m\n\u001b[0;32m--> 794\u001b[0;31m       enable_mlir_converter=True)\n\u001b[0m\u001b[1;32m    795\u001b[0m   \u001b[0;32mreturn\u001b[0m \u001b[0mdata\u001b[0m\u001b[0;34m\u001b[0m\u001b[0;34m\u001b[0m\u001b[0m\n\u001b[1;32m    796\u001b[0m \u001b[0;34m\u001b[0m\u001b[0m\n",
            "\u001b[0;32m/usr/local/lib/python3.7/dist-packages/tensorflow/lite/python/convert.py\u001b[0m in \u001b[0;36mconvert\u001b[0;34m(model_flags_str, conversion_flags_str, input_data_str, debug_info_str, enable_mlir_converter)\u001b[0m\n\u001b[1;32m    304\u001b[0m       \u001b[0;32mfor\u001b[0m \u001b[0merror_data\u001b[0m \u001b[0;32min\u001b[0m \u001b[0m_metrics_wrapper\u001b[0m\u001b[0;34m.\u001b[0m\u001b[0mretrieve_collected_errors\u001b[0m\u001b[0;34m(\u001b[0m\u001b[0;34m)\u001b[0m\u001b[0;34m:\u001b[0m\u001b[0;34m\u001b[0m\u001b[0;34m\u001b[0m\u001b[0m\n\u001b[1;32m    305\u001b[0m         \u001b[0mconverter_error\u001b[0m\u001b[0;34m.\u001b[0m\u001b[0mappend_error\u001b[0m\u001b[0;34m(\u001b[0m\u001b[0merror_data\u001b[0m\u001b[0;34m)\u001b[0m\u001b[0;34m\u001b[0m\u001b[0;34m\u001b[0m\u001b[0m\n\u001b[0;32m--> 306\u001b[0;31m       \u001b[0;32mraise\u001b[0m \u001b[0mconverter_error\u001b[0m\u001b[0;34m\u001b[0m\u001b[0;34m\u001b[0m\u001b[0m\n\u001b[0m\u001b[1;32m    307\u001b[0m \u001b[0;34m\u001b[0m\u001b[0m\n\u001b[1;32m    308\u001b[0m   return _run_deprecated_conversion_binary(\n",
            "\u001b[0;31mConverterError\u001b[0m: <unknown>:0: error: loc(callsite(callsite(fused[\"TensorListReserve:\", \"sequential/lstm/TensorArrayV2_1@__inference__wrapped_model_34303\"] at fused[\"StatefulPartitionedCall:\", \"StatefulPartitionedCall@__inference_signature_wrapper_36401\"]) at fused[\"StatefulPartitionedCall:\", \"StatefulPartitionedCall\"])): 'tf.TensorListReserve' op requires element_shape to be static during TF Lite transformation pass\n<unknown>:0: note: loc(fused[\"StatefulPartitionedCall:\", \"StatefulPartitionedCall\"]): called from\n<unknown>:0: error: loc(callsite(callsite(fused[\"TensorListReserve:\", \"sequential/lstm/TensorArrayV2_1@__inference__wrapped_model_34303\"] at fused[\"StatefulPartitionedCall:\", \"StatefulPartitionedCall@__inference_signature_wrapper_36401\"]) at fused[\"StatefulPartitionedCall:\", \"StatefulPartitionedCall\"])): failed to legalize operation 'tf.TensorListReserve' that was explicitly marked illegal\n<unknown>:0: note: loc(fused[\"StatefulPartitionedCall:\", \"StatefulPartitionedCall\"]): called from\n<unknown>:0: error: Lowering tensor list ops is failed. Please consider using Select TF ops and disabling `_experimental_lower_tensor_list_ops` flag in the TFLite converter object. For example, converter.target_spec.supported_ops = [tf.lite.OpsSet.TFLITE_BUILTINS, tf.lite.OpsSet.SELECT_TF_OPS]\\n converter._experimental_lower_tensor_list_ops = False\n"
          ]
        }
      ]
    },
    {
      "cell_type": "code",
      "source": [
        "tflite_model = tf.keras.models.load_model('my_model.h5')\n",
        "converter = tf.lite.TFLiteConverter.from_keras_model(tflite_model)\n",
        "tflite_save = converter.convert()\n",
        "open(\"generated.tflite\", \"wb\").write(tflite_save)"
      ],
      "metadata": {
        "colab": {
          "base_uri": "https://localhost:8080/",
          "height": 571
        },
        "id": "bJih9Wof70KN",
        "outputId": "b7df70d9-d0de-4113-f85f-21f660856337"
      },
      "execution_count": null,
      "outputs": [
        {
          "output_type": "stream",
          "name": "stdout",
          "text": [
            "INFO:tensorflow:Assets written to: /tmp/tmpprzn8dwr/assets\n"
          ]
        },
        {
          "output_type": "stream",
          "name": "stderr",
          "text": [
            "INFO:tensorflow:Assets written to: /tmp/tmpprzn8dwr/assets\n"
          ]
        },
        {
          "output_type": "error",
          "ename": "ConverterError",
          "evalue": "ignored",
          "traceback": [
            "\u001b[0;31m---------------------------------------------------------------------------\u001b[0m",
            "\u001b[0;31mConverterError\u001b[0m                            Traceback (most recent call last)",
            "\u001b[0;32m<ipython-input-44-bb23d190cdd1>\u001b[0m in \u001b[0;36m<module>\u001b[0;34m()\u001b[0m\n\u001b[1;32m      1\u001b[0m \u001b[0mtflite_model\u001b[0m \u001b[0;34m=\u001b[0m \u001b[0mtf\u001b[0m\u001b[0;34m.\u001b[0m\u001b[0mkeras\u001b[0m\u001b[0;34m.\u001b[0m\u001b[0mmodels\u001b[0m\u001b[0;34m.\u001b[0m\u001b[0mload_model\u001b[0m\u001b[0;34m(\u001b[0m\u001b[0;34m'my_model.h5'\u001b[0m\u001b[0;34m)\u001b[0m\u001b[0;34m\u001b[0m\u001b[0;34m\u001b[0m\u001b[0m\n\u001b[1;32m      2\u001b[0m \u001b[0mconverter\u001b[0m \u001b[0;34m=\u001b[0m \u001b[0mtf\u001b[0m\u001b[0;34m.\u001b[0m\u001b[0mlite\u001b[0m\u001b[0;34m.\u001b[0m\u001b[0mTFLiteConverter\u001b[0m\u001b[0;34m.\u001b[0m\u001b[0mfrom_keras_model\u001b[0m\u001b[0;34m(\u001b[0m\u001b[0mtflite_model\u001b[0m\u001b[0;34m)\u001b[0m\u001b[0;34m\u001b[0m\u001b[0;34m\u001b[0m\u001b[0m\n\u001b[0;32m----> 3\u001b[0;31m \u001b[0mtflite_save\u001b[0m \u001b[0;34m=\u001b[0m \u001b[0mconverter\u001b[0m\u001b[0;34m.\u001b[0m\u001b[0mconvert\u001b[0m\u001b[0;34m(\u001b[0m\u001b[0;34m)\u001b[0m\u001b[0;34m\u001b[0m\u001b[0;34m\u001b[0m\u001b[0m\n\u001b[0m\u001b[1;32m      4\u001b[0m \u001b[0mopen\u001b[0m\u001b[0;34m(\u001b[0m\u001b[0;34m\"generated.tflite\"\u001b[0m\u001b[0;34m,\u001b[0m \u001b[0;34m\"wb\"\u001b[0m\u001b[0;34m)\u001b[0m\u001b[0;34m.\u001b[0m\u001b[0mwrite\u001b[0m\u001b[0;34m(\u001b[0m\u001b[0mtflite_save\u001b[0m\u001b[0;34m)\u001b[0m\u001b[0;34m\u001b[0m\u001b[0;34m\u001b[0m\u001b[0m\n",
            "\u001b[0;32m/usr/local/lib/python3.7/dist-packages/tensorflow/lite/python/lite.py\u001b[0m in \u001b[0;36mwrapper\u001b[0;34m(self, *args, **kwargs)\u001b[0m\n\u001b[1;32m    801\u001b[0m   \u001b[0;32mdef\u001b[0m \u001b[0mwrapper\u001b[0m\u001b[0;34m(\u001b[0m\u001b[0mself\u001b[0m\u001b[0;34m,\u001b[0m \u001b[0;34m*\u001b[0m\u001b[0margs\u001b[0m\u001b[0;34m,\u001b[0m \u001b[0;34m**\u001b[0m\u001b[0mkwargs\u001b[0m\u001b[0;34m)\u001b[0m\u001b[0;34m:\u001b[0m\u001b[0;34m\u001b[0m\u001b[0;34m\u001b[0m\u001b[0m\n\u001b[1;32m    802\u001b[0m     \u001b[0;31m# pylint: disable=protected-access\u001b[0m\u001b[0;34m\u001b[0m\u001b[0;34m\u001b[0m\u001b[0;34m\u001b[0m\u001b[0m\n\u001b[0;32m--> 803\u001b[0;31m     \u001b[0;32mreturn\u001b[0m \u001b[0mself\u001b[0m\u001b[0;34m.\u001b[0m\u001b[0m_convert_and_export_metrics\u001b[0m\u001b[0;34m(\u001b[0m\u001b[0mconvert_func\u001b[0m\u001b[0;34m,\u001b[0m \u001b[0;34m*\u001b[0m\u001b[0margs\u001b[0m\u001b[0;34m,\u001b[0m \u001b[0;34m**\u001b[0m\u001b[0mkwargs\u001b[0m\u001b[0;34m)\u001b[0m\u001b[0;34m\u001b[0m\u001b[0;34m\u001b[0m\u001b[0m\n\u001b[0m\u001b[1;32m    804\u001b[0m     \u001b[0;31m# pylint: enable=protected-access\u001b[0m\u001b[0;34m\u001b[0m\u001b[0;34m\u001b[0m\u001b[0;34m\u001b[0m\u001b[0m\n\u001b[1;32m    805\u001b[0m \u001b[0;34m\u001b[0m\u001b[0m\n",
            "\u001b[0;32m/usr/local/lib/python3.7/dist-packages/tensorflow/lite/python/lite.py\u001b[0m in \u001b[0;36m_convert_and_export_metrics\u001b[0;34m(self, convert_func, *args, **kwargs)\u001b[0m\n\u001b[1;32m    787\u001b[0m     \u001b[0mself\u001b[0m\u001b[0;34m.\u001b[0m\u001b[0m_save_conversion_params_metric\u001b[0m\u001b[0;34m(\u001b[0m\u001b[0;34m)\u001b[0m\u001b[0;34m\u001b[0m\u001b[0;34m\u001b[0m\u001b[0m\n\u001b[1;32m    788\u001b[0m     \u001b[0mstart_time\u001b[0m \u001b[0;34m=\u001b[0m \u001b[0mtime\u001b[0m\u001b[0;34m.\u001b[0m\u001b[0mprocess_time\u001b[0m\u001b[0;34m(\u001b[0m\u001b[0;34m)\u001b[0m\u001b[0;34m\u001b[0m\u001b[0;34m\u001b[0m\u001b[0m\n\u001b[0;32m--> 789\u001b[0;31m     \u001b[0mresult\u001b[0m \u001b[0;34m=\u001b[0m \u001b[0mconvert_func\u001b[0m\u001b[0;34m(\u001b[0m\u001b[0mself\u001b[0m\u001b[0;34m,\u001b[0m \u001b[0;34m*\u001b[0m\u001b[0margs\u001b[0m\u001b[0;34m,\u001b[0m \u001b[0;34m**\u001b[0m\u001b[0mkwargs\u001b[0m\u001b[0;34m)\u001b[0m\u001b[0;34m\u001b[0m\u001b[0;34m\u001b[0m\u001b[0m\n\u001b[0m\u001b[1;32m    790\u001b[0m     \u001b[0melapsed_time_ms\u001b[0m \u001b[0;34m=\u001b[0m \u001b[0;34m(\u001b[0m\u001b[0mtime\u001b[0m\u001b[0;34m.\u001b[0m\u001b[0mprocess_time\u001b[0m\u001b[0;34m(\u001b[0m\u001b[0;34m)\u001b[0m \u001b[0;34m-\u001b[0m \u001b[0mstart_time\u001b[0m\u001b[0;34m)\u001b[0m \u001b[0;34m*\u001b[0m \u001b[0;36m1000\u001b[0m\u001b[0;34m\u001b[0m\u001b[0;34m\u001b[0m\u001b[0m\n\u001b[1;32m    791\u001b[0m     \u001b[0;32mif\u001b[0m \u001b[0mresult\u001b[0m\u001b[0;34m:\u001b[0m\u001b[0;34m\u001b[0m\u001b[0;34m\u001b[0m\u001b[0m\n",
            "\u001b[0;32m/usr/local/lib/python3.7/dist-packages/tensorflow/lite/python/lite.py\u001b[0m in \u001b[0;36mconvert\u001b[0;34m(self)\u001b[0m\n\u001b[1;32m   1208\u001b[0m         \u001b[0mInvalid\u001b[0m \u001b[0mquantization\u001b[0m \u001b[0mparameters\u001b[0m\u001b[0;34m.\u001b[0m\u001b[0;34m\u001b[0m\u001b[0;34m\u001b[0m\u001b[0m\n\u001b[1;32m   1209\u001b[0m     \"\"\"\n\u001b[0;32m-> 1210\u001b[0;31m     \u001b[0msaved_model_convert_result\u001b[0m \u001b[0;34m=\u001b[0m \u001b[0mself\u001b[0m\u001b[0;34m.\u001b[0m\u001b[0m_convert_as_saved_model\u001b[0m\u001b[0;34m(\u001b[0m\u001b[0;34m)\u001b[0m\u001b[0;34m\u001b[0m\u001b[0;34m\u001b[0m\u001b[0m\n\u001b[0m\u001b[1;32m   1211\u001b[0m     \u001b[0;32mif\u001b[0m \u001b[0msaved_model_convert_result\u001b[0m\u001b[0;34m:\u001b[0m\u001b[0;34m\u001b[0m\u001b[0;34m\u001b[0m\u001b[0m\n\u001b[1;32m   1212\u001b[0m       \u001b[0;32mreturn\u001b[0m \u001b[0msaved_model_convert_result\u001b[0m\u001b[0;34m\u001b[0m\u001b[0;34m\u001b[0m\u001b[0m\n",
            "\u001b[0;32m/usr/local/lib/python3.7/dist-packages/tensorflow/lite/python/lite.py\u001b[0m in \u001b[0;36m_convert_as_saved_model\u001b[0;34m(self)\u001b[0m\n\u001b[1;32m   1191\u001b[0m       \u001b[0;32mif\u001b[0m \u001b[0mself\u001b[0m\u001b[0;34m.\u001b[0m\u001b[0msaved_model_dir\u001b[0m\u001b[0;34m:\u001b[0m\u001b[0;34m\u001b[0m\u001b[0;34m\u001b[0m\u001b[0m\n\u001b[1;32m   1192\u001b[0m         return super(TFLiteKerasModelConverterV2,\n\u001b[0;32m-> 1193\u001b[0;31m                      self).convert(graph_def, input_tensors, output_tensors)\n\u001b[0m\u001b[1;32m   1194\u001b[0m     \u001b[0;32mfinally\u001b[0m\u001b[0;34m:\u001b[0m\u001b[0;34m\u001b[0m\u001b[0;34m\u001b[0m\u001b[0m\n\u001b[1;32m   1195\u001b[0m       \u001b[0mshutil\u001b[0m\u001b[0;34m.\u001b[0m\u001b[0mrmtree\u001b[0m\u001b[0;34m(\u001b[0m\u001b[0mtemp_dir\u001b[0m\u001b[0;34m,\u001b[0m \u001b[0;32mTrue\u001b[0m\u001b[0;34m)\u001b[0m\u001b[0;34m\u001b[0m\u001b[0;34m\u001b[0m\u001b[0m\n",
            "\u001b[0;32m/usr/local/lib/python3.7/dist-packages/tensorflow/lite/python/lite.py\u001b[0m in \u001b[0;36mconvert\u001b[0;34m(self, graph_def, input_tensors, output_tensors)\u001b[0m\n\u001b[1;32m   1005\u001b[0m         \u001b[0minput_tensors\u001b[0m\u001b[0;34m=\u001b[0m\u001b[0minput_tensors\u001b[0m\u001b[0;34m,\u001b[0m\u001b[0;34m\u001b[0m\u001b[0;34m\u001b[0m\u001b[0m\n\u001b[1;32m   1006\u001b[0m         \u001b[0moutput_tensors\u001b[0m\u001b[0;34m=\u001b[0m\u001b[0moutput_tensors\u001b[0m\u001b[0;34m,\u001b[0m\u001b[0;34m\u001b[0m\u001b[0;34m\u001b[0m\u001b[0m\n\u001b[0;32m-> 1007\u001b[0;31m         **converter_kwargs)\n\u001b[0m\u001b[1;32m   1008\u001b[0m \u001b[0;34m\u001b[0m\u001b[0m\n\u001b[1;32m   1009\u001b[0m     return self._optimize_tflite_model(\n",
            "\u001b[0;32m/usr/local/lib/python3.7/dist-packages/tensorflow/lite/python/convert_phase.py\u001b[0m in \u001b[0;36mwrapper\u001b[0;34m(*args, **kwargs)\u001b[0m\n\u001b[1;32m    211\u001b[0m         \u001b[0;32melse\u001b[0m\u001b[0;34m:\u001b[0m\u001b[0;34m\u001b[0m\u001b[0;34m\u001b[0m\u001b[0m\n\u001b[1;32m    212\u001b[0m           \u001b[0mreport_error_message\u001b[0m\u001b[0;34m(\u001b[0m\u001b[0mstr\u001b[0m\u001b[0;34m(\u001b[0m\u001b[0mconverter_error\u001b[0m\u001b[0;34m)\u001b[0m\u001b[0;34m)\u001b[0m\u001b[0;34m\u001b[0m\u001b[0;34m\u001b[0m\u001b[0m\n\u001b[0;32m--> 213\u001b[0;31m         \u001b[0;32mraise\u001b[0m \u001b[0mconverter_error\u001b[0m \u001b[0;32mfrom\u001b[0m \u001b[0;32mNone\u001b[0m  \u001b[0;31m# Re-throws the exception.\u001b[0m\u001b[0;34m\u001b[0m\u001b[0;34m\u001b[0m\u001b[0m\n\u001b[0m\u001b[1;32m    214\u001b[0m       \u001b[0;32mexcept\u001b[0m \u001b[0mException\u001b[0m \u001b[0;32mas\u001b[0m \u001b[0merror\u001b[0m\u001b[0;34m:\u001b[0m\u001b[0;34m\u001b[0m\u001b[0;34m\u001b[0m\u001b[0m\n\u001b[1;32m    215\u001b[0m         \u001b[0mreport_error_message\u001b[0m\u001b[0;34m(\u001b[0m\u001b[0mstr\u001b[0m\u001b[0;34m(\u001b[0m\u001b[0merror\u001b[0m\u001b[0;34m)\u001b[0m\u001b[0;34m)\u001b[0m\u001b[0;34m\u001b[0m\u001b[0;34m\u001b[0m\u001b[0m\n",
            "\u001b[0;32m/usr/local/lib/python3.7/dist-packages/tensorflow/lite/python/convert_phase.py\u001b[0m in \u001b[0;36mwrapper\u001b[0;34m(*args, **kwargs)\u001b[0m\n\u001b[1;32m    204\u001b[0m     \u001b[0;32mdef\u001b[0m \u001b[0mwrapper\u001b[0m\u001b[0;34m(\u001b[0m\u001b[0;34m*\u001b[0m\u001b[0margs\u001b[0m\u001b[0;34m,\u001b[0m \u001b[0;34m**\u001b[0m\u001b[0mkwargs\u001b[0m\u001b[0;34m)\u001b[0m\u001b[0;34m:\u001b[0m\u001b[0;34m\u001b[0m\u001b[0;34m\u001b[0m\u001b[0m\n\u001b[1;32m    205\u001b[0m       \u001b[0;32mtry\u001b[0m\u001b[0;34m:\u001b[0m\u001b[0;34m\u001b[0m\u001b[0;34m\u001b[0m\u001b[0m\n\u001b[0;32m--> 206\u001b[0;31m         \u001b[0;32mreturn\u001b[0m \u001b[0mfunc\u001b[0m\u001b[0;34m(\u001b[0m\u001b[0;34m*\u001b[0m\u001b[0margs\u001b[0m\u001b[0;34m,\u001b[0m \u001b[0;34m**\u001b[0m\u001b[0mkwargs\u001b[0m\u001b[0;34m)\u001b[0m\u001b[0;34m\u001b[0m\u001b[0;34m\u001b[0m\u001b[0m\n\u001b[0m\u001b[1;32m    207\u001b[0m       \u001b[0;32mexcept\u001b[0m \u001b[0mConverterError\u001b[0m \u001b[0;32mas\u001b[0m \u001b[0mconverter_error\u001b[0m\u001b[0;34m:\u001b[0m\u001b[0;34m\u001b[0m\u001b[0;34m\u001b[0m\u001b[0m\n\u001b[1;32m    208\u001b[0m         \u001b[0;32mif\u001b[0m \u001b[0mconverter_error\u001b[0m\u001b[0;34m.\u001b[0m\u001b[0merrors\u001b[0m\u001b[0;34m:\u001b[0m\u001b[0;34m\u001b[0m\u001b[0;34m\u001b[0m\u001b[0m\n",
            "\u001b[0;32m/usr/local/lib/python3.7/dist-packages/tensorflow/lite/python/convert.py\u001b[0m in \u001b[0;36mconvert_graphdef\u001b[0;34m(input_data, input_tensors, output_tensors, **kwargs)\u001b[0m\n\u001b[1;32m    777\u001b[0m       \u001b[0minput_data\u001b[0m\u001b[0;34m.\u001b[0m\u001b[0mSerializeToString\u001b[0m\u001b[0;34m(\u001b[0m\u001b[0;34m)\u001b[0m\u001b[0;34m,\u001b[0m\u001b[0;34m\u001b[0m\u001b[0;34m\u001b[0m\u001b[0m\n\u001b[1;32m    778\u001b[0m       \u001b[0mdebug_info_str\u001b[0m\u001b[0;34m=\u001b[0m\u001b[0mdebug_info\u001b[0m\u001b[0;34m.\u001b[0m\u001b[0mSerializeToString\u001b[0m\u001b[0;34m(\u001b[0m\u001b[0;34m)\u001b[0m \u001b[0;32mif\u001b[0m \u001b[0mdebug_info\u001b[0m \u001b[0;32melse\u001b[0m \u001b[0;32mNone\u001b[0m\u001b[0;34m,\u001b[0m\u001b[0;34m\u001b[0m\u001b[0;34m\u001b[0m\u001b[0m\n\u001b[0;32m--> 779\u001b[0;31m       enable_mlir_converter=enable_mlir_converter)\n\u001b[0m\u001b[1;32m    780\u001b[0m   \u001b[0;32mreturn\u001b[0m \u001b[0mdata\u001b[0m\u001b[0;34m\u001b[0m\u001b[0;34m\u001b[0m\u001b[0m\n\u001b[1;32m    781\u001b[0m \u001b[0;34m\u001b[0m\u001b[0m\n",
            "\u001b[0;32m/usr/local/lib/python3.7/dist-packages/tensorflow/lite/python/convert.py\u001b[0m in \u001b[0;36mconvert\u001b[0;34m(model_flags_str, conversion_flags_str, input_data_str, debug_info_str, enable_mlir_converter)\u001b[0m\n\u001b[1;32m    304\u001b[0m       \u001b[0;32mfor\u001b[0m \u001b[0merror_data\u001b[0m \u001b[0;32min\u001b[0m \u001b[0m_metrics_wrapper\u001b[0m\u001b[0;34m.\u001b[0m\u001b[0mretrieve_collected_errors\u001b[0m\u001b[0;34m(\u001b[0m\u001b[0;34m)\u001b[0m\u001b[0;34m:\u001b[0m\u001b[0;34m\u001b[0m\u001b[0;34m\u001b[0m\u001b[0m\n\u001b[1;32m    305\u001b[0m         \u001b[0mconverter_error\u001b[0m\u001b[0;34m.\u001b[0m\u001b[0mappend_error\u001b[0m\u001b[0;34m(\u001b[0m\u001b[0merror_data\u001b[0m\u001b[0;34m)\u001b[0m\u001b[0;34m\u001b[0m\u001b[0;34m\u001b[0m\u001b[0m\n\u001b[0;32m--> 306\u001b[0;31m       \u001b[0;32mraise\u001b[0m \u001b[0mconverter_error\u001b[0m\u001b[0;34m\u001b[0m\u001b[0;34m\u001b[0m\u001b[0m\n\u001b[0m\u001b[1;32m    307\u001b[0m \u001b[0;34m\u001b[0m\u001b[0m\n\u001b[1;32m    308\u001b[0m   return _run_deprecated_conversion_binary(\n",
            "\u001b[0;31mConverterError\u001b[0m: /usr/local/lib/python3.7/dist-packages/tensorflow/python/saved_model/save.py:1369:0: error: 'tf.TensorListReserve' op requires element_shape to be static during TF Lite transformation pass\n<unknown>:0: note: loc(fused[\"StatefulPartitionedCall:\", \"StatefulPartitionedCall\"]): called from\n/usr/local/lib/python3.7/dist-packages/tensorflow/python/saved_model/save.py:1369:0: error: failed to legalize operation 'tf.TensorListReserve' that was explicitly marked illegal\n<unknown>:0: note: loc(fused[\"StatefulPartitionedCall:\", \"StatefulPartitionedCall\"]): called from\n<unknown>:0: error: Lowering tensor list ops is failed. Please consider using Select TF ops and disabling `_experimental_lower_tensor_list_ops` flag in the TFLite converter object. For example, converter.target_spec.supported_ops = [tf.lite.OpsSet.TFLITE_BUILTINS, tf.lite.OpsSet.SELECT_TF_OPS]\\n converter._experimental_lower_tensor_list_ops = False\n"
          ]
        }
      ]
    },
    {
      "cell_type": "code",
      "source": [
        "# Convert the model.\n",
        "converter = tf.lite.TFLiteConverter.from_keras_model(model)\n",
        "converter.target_spec.supported_ops = [tf.lite.OpsSet.TFLITE_BUILTINS, tf.lite.OpsSet.SELECT_TF_OPS]\n",
        "converter._experimental_lower_tensor_list_ops = False\n",
        "\n",
        "tflite_model = converter.convert()\n",
        "\n",
        "# Save the model.\n",
        "with open('model.tflite', 'wb') as f:\n",
        "  f.write(tflite_model)\n",
        "\n",
        "from google.colab import files\n",
        "files.download('model.tflite')"
      ],
      "metadata": {
        "colab": {
          "base_uri": "https://localhost:8080/",
          "height": 69
        },
        "id": "6gyMTno-aSXX",
        "outputId": "427ef8ef-1015-46a5-9be8-103d36e2c689"
      },
      "execution_count": null,
      "outputs": [
        {
          "output_type": "stream",
          "name": "stdout",
          "text": [
            "INFO:tensorflow:Assets written to: /tmp/tmp_qiyxj70/assets\n"
          ]
        },
        {
          "output_type": "stream",
          "name": "stderr",
          "text": [
            "INFO:tensorflow:Assets written to: /tmp/tmp_qiyxj70/assets\n",
            "WARNING:absl:Buffer deduplication procedure will be skipped when flatbuffer library is not properly loaded\n"
          ]
        },
        {
          "output_type": "display_data",
          "data": {
            "text/plain": [
              "<IPython.core.display.Javascript object>"
            ],
            "application/javascript": [
              "\n",
              "    async function download(id, filename, size) {\n",
              "      if (!google.colab.kernel.accessAllowed) {\n",
              "        return;\n",
              "      }\n",
              "      const div = document.createElement('div');\n",
              "      const label = document.createElement('label');\n",
              "      label.textContent = `Downloading \"${filename}\": `;\n",
              "      div.appendChild(label);\n",
              "      const progress = document.createElement('progress');\n",
              "      progress.max = size;\n",
              "      div.appendChild(progress);\n",
              "      document.body.appendChild(div);\n",
              "\n",
              "      const buffers = [];\n",
              "      let downloaded = 0;\n",
              "\n",
              "      const channel = await google.colab.kernel.comms.open(id);\n",
              "      // Send a message to notify the kernel that we're ready.\n",
              "      channel.send({})\n",
              "\n",
              "      for await (const message of channel.messages) {\n",
              "        // Send a message to notify the kernel that we're ready.\n",
              "        channel.send({})\n",
              "        if (message.buffers) {\n",
              "          for (const buffer of message.buffers) {\n",
              "            buffers.push(buffer);\n",
              "            downloaded += buffer.byteLength;\n",
              "            progress.value = downloaded;\n",
              "          }\n",
              "        }\n",
              "      }\n",
              "      const blob = new Blob(buffers, {type: 'application/binary'});\n",
              "      const a = document.createElement('a');\n",
              "      a.href = window.URL.createObjectURL(blob);\n",
              "      a.download = filename;\n",
              "      div.appendChild(a);\n",
              "      a.click();\n",
              "      div.remove();\n",
              "    }\n",
              "  "
            ]
          },
          "metadata": {}
        },
        {
          "output_type": "display_data",
          "data": {
            "text/plain": [
              "<IPython.core.display.Javascript object>"
            ],
            "application/javascript": [
              "download(\"download_b0918022-0190-4b46-99a9-48256004242f\", \"model.tflite\", 4478072)"
            ]
          },
          "metadata": {}
        }
      ]
    },
    {
      "cell_type": "code",
      "source": [
        "# EXERCISE: Use the tf.saved_model API to save your model in the SavedModel format. \n",
        "export_dir = 'saved_model/1'\n",
        "\n",
        "# YOUR CODE HERE\n",
        "tf.saved_model.save(model,export_dir=export_dir)"
      ],
      "metadata": {
        "colab": {
          "base_uri": "https://localhost:8080/"
        },
        "id": "GdAovoSoz37t",
        "outputId": "64267b5f-5c45-4663-cefb-d7323c7c5ab9"
      },
      "execution_count": null,
      "outputs": [
        {
          "output_type": "stream",
          "name": "stdout",
          "text": [
            "INFO:tensorflow:Assets written to: saved_model/1/assets\n"
          ]
        },
        {
          "output_type": "stream",
          "name": "stderr",
          "text": [
            "INFO:tensorflow:Assets written to: saved_model/1/assets\n"
          ]
        }
      ]
    },
    {
      "cell_type": "code",
      "source": [
        "# EXERCISE: Use the TFLiteConverter SavedModel API to initialize the converter\n",
        "\n",
        "converter = tf.lite.TFLiteConverter.from_saved_model(export_dir)\n",
        "\n",
        "# Set the optimzations\n",
        "converter.optimizations = [optimization]\n",
        "\n",
        "# Invoke the converter to finally generate the TFLite model\n",
        "tflite_model = converter.convert();"
      ],
      "metadata": {
        "colab": {
          "base_uri": "https://localhost:8080/",
          "height": 235
        },
        "id": "quIorBVp9N65",
        "outputId": "15e228d9-f94b-4f41-a1b3-673132edab98"
      },
      "execution_count": null,
      "outputs": [
        {
          "output_type": "error",
          "ename": "NameError",
          "evalue": "ignored",
          "traceback": [
            "\u001b[0;31m---------------------------------------------------------------------------\u001b[0m",
            "\u001b[0;31mNameError\u001b[0m                                 Traceback (most recent call last)",
            "\u001b[0;32m<ipython-input-31-92ac8b345878>\u001b[0m in \u001b[0;36m<module>\u001b[0;34m()\u001b[0m\n\u001b[1;32m      4\u001b[0m \u001b[0;34m\u001b[0m\u001b[0m\n\u001b[1;32m      5\u001b[0m \u001b[0;31m# Set the optimzations\u001b[0m\u001b[0;34m\u001b[0m\u001b[0;34m\u001b[0m\u001b[0;34m\u001b[0m\u001b[0m\n\u001b[0;32m----> 6\u001b[0;31m \u001b[0mconverter\u001b[0m\u001b[0;34m.\u001b[0m\u001b[0moptimizations\u001b[0m \u001b[0;34m=\u001b[0m \u001b[0;34m[\u001b[0m\u001b[0moptimization\u001b[0m\u001b[0;34m]\u001b[0m\u001b[0;34m\u001b[0m\u001b[0;34m\u001b[0m\u001b[0m\n\u001b[0m\u001b[1;32m      7\u001b[0m \u001b[0;34m\u001b[0m\u001b[0m\n\u001b[1;32m      8\u001b[0m \u001b[0;31m# Invoke the converter to finally generate the TFLite model\u001b[0m\u001b[0;34m\u001b[0m\u001b[0;34m\u001b[0m\u001b[0;34m\u001b[0m\u001b[0m\n",
            "\u001b[0;31mNameError\u001b[0m: name 'optimization' is not defined"
          ]
        }
      ]
    },
    {
      "cell_type": "code",
      "source": [
        "import os\n",
        "import zipfile\n",
        "\n",
        "zf = zipfile.ZipFile(\"myzipfile.zip\", \"w\")\n",
        "for dirname, subdirs, files in os.walk(\"saved_model\"):\n",
        "    zf.write(dirname)\n",
        "    for filename in files:\n",
        "        zf.write(os.path.join(dirname, filename))\n",
        "zf.close()"
      ],
      "metadata": {
        "id": "3W-D7Nlo-aVk"
      },
      "execution_count": null,
      "outputs": []
    },
    {
      "cell_type": "code",
      "source": [
        ""
      ],
      "metadata": {
        "id": "F9PdE6wiSfU5"
      },
      "execution_count": null,
      "outputs": []
    }
  ],
  "metadata": {
    "kernelspec": {
      "display_name": "Python 3",
      "language": "python",
      "name": "python3"
    },
    "language_info": {
      "name": "python",
      "version": "3.6.4",
      "mimetype": "text/x-python",
      "codemirror_mode": {
        "name": "ipython",
        "version": 3
      },
      "pygments_lexer": "ipython3",
      "nbconvert_exporter": "python",
      "file_extension": ".py"
    },
    "colab": {
      "name": "modelMC.ipynb",
      "provenance": [],
      "collapsed_sections": []
    }
  },
  "nbformat": 4,
  "nbformat_minor": 0
}